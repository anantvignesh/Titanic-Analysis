{
  "nbformat": 4,
  "nbformat_minor": 0,
  "metadata": {
    "kernelspec": {
      "display_name": "Python 3",
      "language": "python",
      "name": "python3"
    },
    "language_info": {
      "codemirror_mode": {
        "name": "ipython",
        "version": 3
      },
      "file_extension": ".py",
      "mimetype": "text/x-python",
      "name": "python",
      "nbconvert_exporter": "python",
      "pygments_lexer": "ipython3",
      "version": "3.7.4"
    },
    "colab": {
      "name": "Titanic Analysis.ipynb",
      "provenance": [],
      "toc_visible": true
    }
  },
  "cells": [
    {
      "cell_type": "markdown",
      "metadata": {
        "id": "jknV2wwH2xxP"
      },
      "source": [
        "### Import Packages"
      ]
    },
    {
      "cell_type": "code",
      "metadata": {
        "id": "bZ3TW0x22xxR",
        "outputId": "086ba097-3934-44c5-f203-ee206eb10abc",
        "colab": {
          "base_uri": "https://localhost:8080/"
        }
      },
      "source": [
        "import numpy as np\n",
        "import matplotlib.pyplot as plt\n",
        "import pandas as pd\n",
        "import seaborn as sns\n",
        "\n",
        "# Scikit learn library\n",
        "from sklearn.tree import DecisionTreeClassifier\n",
        "from sklearn.neighbors import KNeighborsClassifier\n",
        "from sklearn import svm\n",
        "from sklearn.naive_bayes import GaussianNB\n",
        "from sklearn.naive_bayes import MultinomialNB\n",
        "from sklearn.naive_bayes import BernoulliNB\n",
        "from sklearn.linear_model import LogisticRegression\n",
        "from sklearn.linear_model import LinearRegression\n",
        "from xgboost import XGBClassifier\n",
        "from sklearn.ensemble import RandomForestClassifier\n",
        "from sklearn.ensemble import GradientBoostingClassifier\n",
        "\n",
        "# Import Accuracy Metrics\n",
        "from sklearn.metrics import accuracy_score,confusion_matrix,classification_report\n",
        "\n",
        "# Pickle To Save And Load Models\n",
        "import pickle\n",
        "from sklearn.externals import joblib"
      ],
      "execution_count": 2,
      "outputs": [
        {
          "output_type": "stream",
          "text": [
            "/usr/local/lib/python3.6/dist-packages/sklearn/externals/joblib/__init__.py:15: FutureWarning: sklearn.externals.joblib is deprecated in 0.21 and will be removed in 0.23. Please import this functionality directly from joblib, which can be installed with: pip install joblib. If this warning is raised when loading pickled models, you may need to re-serialize those models with scikit-learn 0.21+.\n",
            "  warnings.warn(msg, category=FutureWarning)\n"
          ],
          "name": "stderr"
        }
      ]
    },
    {
      "cell_type": "code",
      "metadata": {
        "id": "HdulKiXr6fnB",
        "outputId": "d99ec7f9-dbb5-4781-ca2b-991d364238fb",
        "colab": {
          "base_uri": "https://localhost:8080/"
        }
      },
      "source": [
        "from google.colab import drive\n",
        "drive.mount('/content/drive')"
      ],
      "execution_count": 3,
      "outputs": [
        {
          "output_type": "stream",
          "text": [
            "Mounted at /content/drive\n"
          ],
          "name": "stdout"
        }
      ]
    },
    {
      "cell_type": "markdown",
      "metadata": {
        "id": "yNZrFid_2xxa"
      },
      "source": [
        "### Global Variables"
      ]
    },
    {
      "cell_type": "code",
      "metadata": {
        "id": "MzLGGiEm2xxb"
      },
      "source": [
        "# Create Global Variables If Necessay\n",
        "projectName = 'Titanic Survival Prediction'\n",
        "datasetPath = '/content/drive/My Drive/Data Science Projects/Titanic/Datasets/'\n",
        "modelSavePath = '/content/drive/My Drive/Data Science Projects/Titanic/'"
      ],
      "execution_count": 4,
      "outputs": []
    },
    {
      "cell_type": "markdown",
      "metadata": {
        "id": "yZPD2HWj2xxi"
      },
      "source": [
        "### Custom Functions"
      ]
    },
    {
      "cell_type": "code",
      "metadata": {
        "id": "irgyVtDx2xxk"
      },
      "source": [
        "def plot_corr(df):\n",
        "    corr=df.corr()\n",
        "    mask = np.zeros_like(corr, dtype=np.bool)\n",
        "    mask[np.triu_indices_from(mask)] = True\n",
        "    # Set up the matplotlib figure\n",
        "    f, ax = plt.subplots(figsize=(11, 9))\n",
        "    # Generate a custom diverging colormap\n",
        "    cmap = sns.diverging_palette(220, 10, as_cmap=True)\n",
        "    # Draw the heatmap with the mask and correct aspect ratio\n",
        "    sns.heatmap(corr, mask=mask, cmap=cmap, vmax=.3, center=0,square=True, linewidths=.5, cbar_kws={\"shrink\": .5})"
      ],
      "execution_count": 5,
      "outputs": []
    },
    {
      "cell_type": "markdown",
      "metadata": {
        "id": "UHxmqdF_2xxv"
      },
      "source": [
        "### Data Loading"
      ]
    },
    {
      "cell_type": "code",
      "metadata": {
        "id": "nZa_pE1uCNis"
      },
      "source": [
        "df_train = pd.read_csv(datasetPath + 'train.csv')\n",
        "df_test = pd.read_csv(datasetPath + 'test.csv')"
      ],
      "execution_count": 6,
      "outputs": []
    },
    {
      "cell_type": "code",
      "metadata": {
        "id": "UHmi-C7tDtJf",
        "outputId": "12f20637-7640-4d74-d16e-609aa77a57d4",
        "colab": {
          "base_uri": "https://localhost:8080/"
        }
      },
      "source": [
        "df_train.info()"
      ],
      "execution_count": 7,
      "outputs": [
        {
          "output_type": "stream",
          "text": [
            "<class 'pandas.core.frame.DataFrame'>\n",
            "RangeIndex: 891 entries, 0 to 890\n",
            "Data columns (total 12 columns):\n",
            " #   Column       Non-Null Count  Dtype  \n",
            "---  ------       --------------  -----  \n",
            " 0   PassengerId  891 non-null    int64  \n",
            " 1   Survived     891 non-null    int64  \n",
            " 2   Pclass       891 non-null    int64  \n",
            " 3   Name         891 non-null    object \n",
            " 4   Sex          891 non-null    object \n",
            " 5   Age          714 non-null    float64\n",
            " 6   SibSp        891 non-null    int64  \n",
            " 7   Parch        891 non-null    int64  \n",
            " 8   Ticket       891 non-null    object \n",
            " 9   Fare         891 non-null    float64\n",
            " 10  Cabin        204 non-null    object \n",
            " 11  Embarked     889 non-null    object \n",
            "dtypes: float64(2), int64(5), object(5)\n",
            "memory usage: 83.7+ KB\n"
          ],
          "name": "stdout"
        }
      ]
    },
    {
      "cell_type": "code",
      "metadata": {
        "id": "5RwTn-M_Dyo7",
        "outputId": "986fb541-819f-4ee8-ae4a-12e9c71482a2",
        "colab": {
          "base_uri": "https://localhost:8080/"
        }
      },
      "source": [
        "df_test.info()"
      ],
      "execution_count": 88,
      "outputs": [
        {
          "output_type": "stream",
          "text": [
            "<class 'pandas.core.frame.DataFrame'>\n",
            "RangeIndex: 418 entries, 0 to 417\n",
            "Data columns (total 11 columns):\n",
            " #   Column       Non-Null Count  Dtype  \n",
            "---  ------       --------------  -----  \n",
            " 0   PassengerId  418 non-null    int64  \n",
            " 1   Pclass       418 non-null    int64  \n",
            " 2   Name         418 non-null    object \n",
            " 3   Sex          418 non-null    object \n",
            " 4   Age          332 non-null    float64\n",
            " 5   SibSp        418 non-null    int64  \n",
            " 6   Parch        418 non-null    int64  \n",
            " 7   Ticket       418 non-null    object \n",
            " 8   Fare         417 non-null    float64\n",
            " 9   Cabin        91 non-null     object \n",
            " 10  Embarked     418 non-null    object \n",
            "dtypes: float64(2), int64(4), object(5)\n",
            "memory usage: 36.0+ KB\n"
          ],
          "name": "stdout"
        }
      ]
    },
    {
      "cell_type": "code",
      "metadata": {
        "id": "xTMnRqoyCpFx"
      },
      "source": [
        "df = pd.concat([df_train, df_test])"
      ],
      "execution_count": 89,
      "outputs": []
    },
    {
      "cell_type": "code",
      "metadata": {
        "id": "GWOpr0RI7Hi_",
        "outputId": "333e3ba9-9abc-4ea5-9d80-0c1f111192cd",
        "colab": {
          "base_uri": "https://localhost:8080/"
        }
      },
      "source": [
        "df.info()"
      ],
      "execution_count": 90,
      "outputs": [
        {
          "output_type": "stream",
          "text": [
            "<class 'pandas.core.frame.DataFrame'>\n",
            "Int64Index: 1309 entries, 0 to 417\n",
            "Data columns (total 12 columns):\n",
            " #   Column       Non-Null Count  Dtype  \n",
            "---  ------       --------------  -----  \n",
            " 0   PassengerId  1309 non-null   int64  \n",
            " 1   Survived     891 non-null    float64\n",
            " 2   Pclass       1309 non-null   int64  \n",
            " 3   Name         1309 non-null   object \n",
            " 4   Sex          1309 non-null   object \n",
            " 5   Age          1046 non-null   float64\n",
            " 6   SibSp        1309 non-null   int64  \n",
            " 7   Parch        1309 non-null   int64  \n",
            " 8   Ticket       1309 non-null   object \n",
            " 9   Fare         1308 non-null   float64\n",
            " 10  Cabin        295 non-null    object \n",
            " 11  Embarked     1307 non-null   object \n",
            "dtypes: float64(3), int64(4), object(5)\n",
            "memory usage: 132.9+ KB\n"
          ],
          "name": "stdout"
        }
      ]
    },
    {
      "cell_type": "markdown",
      "metadata": {
        "id": "2nl3izLJRXyQ"
      },
      "source": [
        "### Data Cleaning"
      ]
    },
    {
      "cell_type": "markdown",
      "metadata": {
        "id": "0qLmpLTlNi7z"
      },
      "source": [
        "#### Check For NaN Values In The Data Frame"
      ]
    },
    {
      "cell_type": "code",
      "metadata": {
        "id": "xP94okB4HSbc",
        "outputId": "14d4a42b-061d-42b3-87f3-c33f7104def7",
        "colab": {
          "base_uri": "https://localhost:8080/"
        }
      },
      "source": [
        "df_train.isnull().sum()"
      ],
      "execution_count": 91,
      "outputs": [
        {
          "output_type": "execute_result",
          "data": {
            "text/plain": [
              "PassengerId      0\n",
              "Survived         0\n",
              "Pclass           0\n",
              "Name             0\n",
              "Sex              0\n",
              "Age            177\n",
              "SibSp            0\n",
              "Parch            0\n",
              "Ticket           0\n",
              "Fare             0\n",
              "Cabin          687\n",
              "Embarked         2\n",
              "dtype: int64"
            ]
          },
          "metadata": {
            "tags": []
          },
          "execution_count": 91
        }
      ]
    },
    {
      "cell_type": "code",
      "metadata": {
        "id": "3yB6TiUcg6aX",
        "outputId": "bd8499a4-6acf-4e4c-b4f5-5e99e26f02e4",
        "colab": {
          "base_uri": "https://localhost:8080/"
        }
      },
      "source": [
        "df_test.isnull().sum()"
      ],
      "execution_count": 92,
      "outputs": [
        {
          "output_type": "execute_result",
          "data": {
            "text/plain": [
              "PassengerId      0\n",
              "Pclass           0\n",
              "Name             0\n",
              "Sex              0\n",
              "Age             86\n",
              "SibSp            0\n",
              "Parch            0\n",
              "Ticket           0\n",
              "Fare             1\n",
              "Cabin          327\n",
              "Embarked         0\n",
              "dtype: int64"
            ]
          },
          "metadata": {
            "tags": []
          },
          "execution_count": 92
        }
      ]
    },
    {
      "cell_type": "markdown",
      "metadata": {
        "id": "rZ8MUWRENd9t"
      },
      "source": [
        "#### Drop Unwanted Columns\n",
        "We can see that the Cabin column has too many NaN values. Hence we can go ahead and drop this column."
      ]
    },
    {
      "cell_type": "code",
      "metadata": {
        "id": "k_F1WulLJJq6",
        "outputId": "19494dfd-28db-412d-b3e7-ce0e00b61a39",
        "colab": {
          "base_uri": "https://localhost:8080/"
        }
      },
      "source": [
        "df_train.drop(['Cabin'], axis=1, inplace=True)\n",
        "df_test.drop(['Cabin'], axis=1, inplace=True)\n",
        "\n",
        "df_train.info();\n",
        "df_test.info();"
      ],
      "execution_count": 93,
      "outputs": [
        {
          "output_type": "stream",
          "text": [
            "<class 'pandas.core.frame.DataFrame'>\n",
            "RangeIndex: 891 entries, 0 to 890\n",
            "Data columns (total 11 columns):\n",
            " #   Column       Non-Null Count  Dtype  \n",
            "---  ------       --------------  -----  \n",
            " 0   PassengerId  891 non-null    int64  \n",
            " 1   Survived     891 non-null    int64  \n",
            " 2   Pclass       891 non-null    int64  \n",
            " 3   Name         891 non-null    object \n",
            " 4   Sex          891 non-null    object \n",
            " 5   Age          714 non-null    float64\n",
            " 6   SibSp        891 non-null    int64  \n",
            " 7   Parch        891 non-null    int64  \n",
            " 8   Ticket       891 non-null    object \n",
            " 9   Fare         891 non-null    float64\n",
            " 10  Embarked     889 non-null    object \n",
            "dtypes: float64(2), int64(5), object(4)\n",
            "memory usage: 76.7+ KB\n",
            "<class 'pandas.core.frame.DataFrame'>\n",
            "RangeIndex: 418 entries, 0 to 417\n",
            "Data columns (total 10 columns):\n",
            " #   Column       Non-Null Count  Dtype  \n",
            "---  ------       --------------  -----  \n",
            " 0   PassengerId  418 non-null    int64  \n",
            " 1   Pclass       418 non-null    int64  \n",
            " 2   Name         418 non-null    object \n",
            " 3   Sex          418 non-null    object \n",
            " 4   Age          332 non-null    float64\n",
            " 5   SibSp        418 non-null    int64  \n",
            " 6   Parch        418 non-null    int64  \n",
            " 7   Ticket       418 non-null    object \n",
            " 8   Fare         417 non-null    float64\n",
            " 9   Embarked     418 non-null    object \n",
            "dtypes: float64(2), int64(4), object(4)\n",
            "memory usage: 32.8+ KB\n"
          ],
          "name": "stdout"
        }
      ]
    },
    {
      "cell_type": "markdown",
      "metadata": {
        "id": "_Zyh8xmdXmcD"
      },
      "source": [
        "#### Filling NaN Values\n",
        "\n",
        "* Age column can be a key column in performing Data Analysis and also during the prediction\n",
        "* Hence, we can impute the Age column by filling the Nan values with the mean value of the column\n",
        "* Embarked column has just 2 NaN values.\n",
        "* This can be solved my filling the NaN values with the mode value of the column \n"
      ]
    },
    {
      "cell_type": "code",
      "metadata": {
        "id": "a6ncTGVuXlW3",
        "outputId": "fdddc528-e27d-4f70-d446-f4e024786709",
        "colab": {
          "base_uri": "https://localhost:8080/"
        }
      },
      "source": [
        "# Removing NaN Values From Age Column\n",
        "from sklearn.impute import SimpleImputer as Im\n",
        "\n",
        "imputerTrain = Im(missing_values = np.nan, strategy = \"mean\")\n",
        "imputerTrain = imputerTrain.fit(df_train.iloc[:, 5:6])\n",
        "df_train.iloc[:, 5:6] = imputerTrain.transform(df_train.iloc[:, 5:6])\n",
        "\n",
        "imputerTest = Im(missing_values = np.nan, strategy = \"mean\")\n",
        "imputerTest = imputerTest.fit(df_test.iloc[:, 4:5])\n",
        "df_test.iloc[:, 4:5] = imputerTest.transform(df_test.iloc[:, 4:5])\n",
        "\n",
        "df_train.info();\n",
        "df_test.info();"
      ],
      "execution_count": 94,
      "outputs": [
        {
          "output_type": "stream",
          "text": [
            "<class 'pandas.core.frame.DataFrame'>\n",
            "RangeIndex: 891 entries, 0 to 890\n",
            "Data columns (total 11 columns):\n",
            " #   Column       Non-Null Count  Dtype  \n",
            "---  ------       --------------  -----  \n",
            " 0   PassengerId  891 non-null    int64  \n",
            " 1   Survived     891 non-null    int64  \n",
            " 2   Pclass       891 non-null    int64  \n",
            " 3   Name         891 non-null    object \n",
            " 4   Sex          891 non-null    object \n",
            " 5   Age          891 non-null    float64\n",
            " 6   SibSp        891 non-null    int64  \n",
            " 7   Parch        891 non-null    int64  \n",
            " 8   Ticket       891 non-null    object \n",
            " 9   Fare         891 non-null    float64\n",
            " 10  Embarked     889 non-null    object \n",
            "dtypes: float64(2), int64(5), object(4)\n",
            "memory usage: 76.7+ KB\n",
            "<class 'pandas.core.frame.DataFrame'>\n",
            "RangeIndex: 418 entries, 0 to 417\n",
            "Data columns (total 10 columns):\n",
            " #   Column       Non-Null Count  Dtype  \n",
            "---  ------       --------------  -----  \n",
            " 0   PassengerId  418 non-null    int64  \n",
            " 1   Pclass       418 non-null    int64  \n",
            " 2   Name         418 non-null    object \n",
            " 3   Sex          418 non-null    object \n",
            " 4   Age          418 non-null    float64\n",
            " 5   SibSp        418 non-null    int64  \n",
            " 6   Parch        418 non-null    int64  \n",
            " 7   Ticket       418 non-null    object \n",
            " 8   Fare         417 non-null    float64\n",
            " 9   Embarked     418 non-null    object \n",
            "dtypes: float64(2), int64(4), object(4)\n",
            "memory usage: 32.8+ KB\n"
          ],
          "name": "stdout"
        }
      ]
    },
    {
      "cell_type": "code",
      "metadata": {
        "id": "AaPqyp3KdzQf",
        "outputId": "9043bf55-1c45-4620-9acb-5e21188d3924",
        "colab": {
          "base_uri": "https://localhost:8080/"
        }
      },
      "source": [
        "# Removing NaN Values From Embarked Column In Train Set\n",
        "imputerTrain = Im(missing_values = np.nan, strategy = \"most_frequent\")\n",
        "imputerTrain = imputerTrain.fit(df_train.iloc[:, 10:])\n",
        "df_train.iloc[:, 10:] = imputerTrain.transform(df_train.iloc[:, 10:])\n",
        "\n",
        "# Removing NaN Values From Embarked Column In Train Set\n",
        "imputerTest = Im(missing_values = np.nan, strategy = \"median\")\n",
        "imputerTest = imputerTest.fit(df_test.iloc[:, 8:9])\n",
        "df_test.iloc[:, 8:9] = imputerTest.transform(df_test.iloc[:, 8:9])\n",
        "\n",
        "df_train.info();\n",
        "df_test.info();"
      ],
      "execution_count": 95,
      "outputs": [
        {
          "output_type": "stream",
          "text": [
            "<class 'pandas.core.frame.DataFrame'>\n",
            "RangeIndex: 891 entries, 0 to 890\n",
            "Data columns (total 11 columns):\n",
            " #   Column       Non-Null Count  Dtype  \n",
            "---  ------       --------------  -----  \n",
            " 0   PassengerId  891 non-null    int64  \n",
            " 1   Survived     891 non-null    int64  \n",
            " 2   Pclass       891 non-null    int64  \n",
            " 3   Name         891 non-null    object \n",
            " 4   Sex          891 non-null    object \n",
            " 5   Age          891 non-null    float64\n",
            " 6   SibSp        891 non-null    int64  \n",
            " 7   Parch        891 non-null    int64  \n",
            " 8   Ticket       891 non-null    object \n",
            " 9   Fare         891 non-null    float64\n",
            " 10  Embarked     891 non-null    object \n",
            "dtypes: float64(2), int64(5), object(4)\n",
            "memory usage: 76.7+ KB\n",
            "<class 'pandas.core.frame.DataFrame'>\n",
            "RangeIndex: 418 entries, 0 to 417\n",
            "Data columns (total 10 columns):\n",
            " #   Column       Non-Null Count  Dtype  \n",
            "---  ------       --------------  -----  \n",
            " 0   PassengerId  418 non-null    int64  \n",
            " 1   Pclass       418 non-null    int64  \n",
            " 2   Name         418 non-null    object \n",
            " 3   Sex          418 non-null    object \n",
            " 4   Age          418 non-null    float64\n",
            " 5   SibSp        418 non-null    int64  \n",
            " 6   Parch        418 non-null    int64  \n",
            " 7   Ticket       418 non-null    object \n",
            " 8   Fare         418 non-null    float64\n",
            " 9   Embarked     418 non-null    object \n",
            "dtypes: float64(2), int64(4), object(4)\n",
            "memory usage: 32.8+ KB\n"
          ],
          "name": "stdout"
        }
      ]
    },
    {
      "cell_type": "markdown",
      "metadata": {
        "id": "GIybMZCCdv2j"
      },
      "source": [
        "#### Correcting The Data Types Of Columns"
      ]
    },
    {
      "cell_type": "code",
      "metadata": {
        "id": "YrC8jrmpduFE"
      },
      "source": [
        "df_train['Age'] = df_train['Age'].astype(int)\n",
        "df_test['Age'] = df_test['Age'].astype(int)"
      ],
      "execution_count": null,
      "outputs": []
    },
    {
      "cell_type": "markdown",
      "metadata": {
        "id": "5-z-it7EJ1x0"
      },
      "source": [
        "### Exploratory Data Analysis"
      ]
    },
    {
      "cell_type": "markdown",
      "metadata": {
        "id": "BtInqMb_NVyz"
      },
      "source": [
        "#### Categorical and Ordinal Variables Distribution"
      ]
    },
    {
      "cell_type": "markdown",
      "metadata": {
        "id": "BI2XdbOTuMAc"
      },
      "source": [
        "* Categorical variable distribution gives us a good idea of how the passenger of the titanic categorized based on different aspects.\n",
        "\n",
        "* From the column survived, we get a good idea that the number of people who survived this disaster are way less compared to the number of people who did not.\n",
        "\n",
        "* From the Passenger Class perspective, majority of the pasengers were from the 3rd class followed by 1st class and 2nd class.\n",
        "\n",
        "* From the Sex column, we can see that number of male passengers were greater than the number of female passengers.\n",
        "\n",
        "* From the Parch (Parent or Children) and SibSp (Siblings or Spouse) column, we get a good idea that majority of the people traveled alone rather than with their families. Both of these column try to convey the same message regarding the family. We can combine these columns later for simplicity.\n",
        "\n",
        "* Finally from the embarked column, we can clearly see that majority of the passengers embarked from S or Southampton followed by C (Cherbourg) and Q (Queenstown)."
      ]
    },
    {
      "cell_type": "code",
      "metadata": {
        "id": "wTftS70XOJzI",
        "outputId": "909cf317-c025-4c09-92e5-afae65485e8a",
        "colab": {
          "base_uri": "https://localhost:8080/",
          "height": 607
        }
      },
      "source": [
        "fig, ax = plt.subplots(2,3, figsize = (15,10))\n",
        "\n",
        "dfTrainSurvived = df_train['Survived'].value_counts()\n",
        "ax[0,0].bar(dfTrainSurvived.index, dfTrainSurvived.values)\n",
        "ax[0,0].set_title('Survived Distribution')\n",
        "\n",
        "dfTrainPclass = df_train['Pclass'].value_counts()\n",
        "ax[0,1].bar(dfTrainPclass.index, dfTrainPclass.values)\n",
        "ax[0,1].set_title('Pclass Distribution')\n",
        "\n",
        "dfTrainSex = df_train['Sex'].value_counts()\n",
        "ax[0,2].bar(dfTrainSex.index, dfTrainSex.values)\n",
        "ax[0,2].set_title('Sex Distribution')\n",
        "\n",
        "dfTrainEmbarked = df_train['Embarked'].value_counts()\n",
        "ax[1,0].bar(dfTrainEmbarked.index, dfTrainEmbarked.values)\n",
        "ax[1,0].set_title('Embarked Distribution')\n",
        "\n",
        "dfTrainParch = df_train['Parch'].value_counts()\n",
        "ax[1,1].bar(dfTrainParch.index, dfTrainParch.values)\n",
        "ax[1,1].set_title('Parch Distribution')\n",
        "\n",
        "dfTrainSibSp = df_train['SibSp'].value_counts()\n",
        "ax[1,2].bar(dfTrainSibSp.index, dfTrainSibSp.values)\n",
        "ax[1,2].set_title('SibSp Distribution')\n",
        "\n",
        "plt.show()"
      ],
      "execution_count": 25,
      "outputs": [
        {
          "output_type": "display_data",
          "data": {
            "image/png": "[encoded data removed]",
            "text/plain": [
              "<Figure size 1080x720 with 6 Axes>"
            ]
          },
          "metadata": {
            "tags": [],
            "needs_background": "light"
          }
        }
      ]
    },
    {
      "cell_type": "markdown",
      "metadata": {
        "id": "EoJ5cdDsFj3q"
      },
      "source": [
        "#### Age Distribution vs Sex, Pclass and Embarked"
      ]
    },
    {
      "cell_type": "code",
      "metadata": {
        "id": "VcItuXnkrKwd",
        "outputId": "8e5f732b-524b-47f0-9d8a-3dac82cf6a13",
        "colab": {
          "base_uri": "https://localhost:8080/",
          "height": 857
        }
      },
      "source": [
        "g_sex = sns.FacetGrid(df_train, col=\"Sex\", height=4, aspect=.8)\n",
        "g_sex.map(sns.histplot, \"Age\");\n",
        "\n",
        "g_Pclass = sns.FacetGrid(df_train, col=\"Pclass\", height=4, aspect=.8)\n",
        "g_Pclass.map(sns.histplot, \"Age\");\n",
        "\n",
        "g_Embarked = sns.FacetGrid(df_train, col=\"Embarked\", height=4, aspect=.8)\n",
        "g_Embarked.map(sns.histplot, \"Age\");"
      ],
      "execution_count": 28,
      "outputs": [
        {
          "output_type": "display_data",
          "data": {
            "image/png": "[encoded data removed]",
            "text/plain": [
              "<Figure size 460.8x288 with 2 Axes>"
            ]
          },
          "metadata": {
            "tags": [],
            "needs_background": "light"
          }
        },
        {
          "output_type": "display_data",
          "data": {
            "image/png": "[encoded data removed]",
            "text/plain": [
              "<Figure size 691.2x288 with 3 Axes>"
            ]
          },
          "metadata": {
            "tags": [],
            "needs_background": "light"
          }
        },
        {
          "output_type": "display_data",
          "data": {
            "image/png": "[encoded data removed]",
            "text/plain": [
              "<Figure size 691.2x288 with 3 Axes>"
            ]
          },
          "metadata": {
            "tags": [],
            "needs_background": "light"
          }
        }
      ]
    },
    {
      "cell_type": "markdown",
      "metadata": {
        "id": "gslMp_yDk1cv"
      },
      "source": [
        "#### Survival Analysis On Each Column"
      ]
    },
    {
      "cell_type": "markdown",
      "metadata": {
        "id": "4lzFs0FVyJnc"
      },
      "source": [
        "Now we can dive deeper into each column and see on what basis people were saved during the disaster. A column wise survival analysis will give us a good understanding of the demographics of people who survived and did not survive.\n",
        " "
      ]
    },
    {
      "cell_type": "code",
      "metadata": {
        "id": "DMuUG2fLlHU3"
      },
      "source": [
        "def stackedBarChart(feature):\n",
        "    survived = df_train[df_train['Survived']==1][feature].value_counts()\n",
        "    dead = df_train[df_train['Survived']==0][feature].value_counts()\n",
        "    df = pd.DataFrame([survived,dead])\n",
        "    df.index = ['Survived','Dead']\n",
        "    df.plot(kind='bar',stacked=True, figsize=(10,5))"
      ],
      "execution_count": 9,
      "outputs": []
    },
    {
      "cell_type": "markdown",
      "metadata": {
        "id": "j9Ab9a2omrtd"
      },
      "source": [
        "##### Sex Based Survival Analysis"
      ]
    },
    {
      "cell_type": "code",
      "metadata": {
        "id": "lQyJx2tfm2Jt",
        "outputId": "e8c2048d-dc2f-413c-a266-929725d76fd1",
        "colab": {
          "base_uri": "https://localhost:8080/",
          "height": 354
        }
      },
      "source": [
        "stackedBarChart('Sex')"
      ],
      "execution_count": 10,
      "outputs": [
        {
          "output_type": "display_data",
          "data": {
            "image/png": "[encoded data removed]",
            "text/plain": [
              "<Figure size 720x360 with 1 Axes>"
            ]
          },
          "metadata": {
            "tags": [],
            "needs_background": "light"
          }
        }
      ]
    },
    {
      "cell_type": "markdown",
      "metadata": {
        "id": "_PQH2YOmzwhE"
      },
      "source": [
        "We all know that the Sex of an individual played a major part in a person's chances of survival. We can clearly see from the stacked bar graph below that a larger portion of females survived and a larger portion of male did not survive. Only a small fraction of males survived."
      ]
    },
    {
      "cell_type": "markdown",
      "metadata": {
        "id": "D1HPeHRjnIzU"
      },
      "source": [
        "##### Pclass Based Survival Analysis"
      ]
    },
    {
      "cell_type": "code",
      "metadata": {
        "id": "XiFbBKtPnIzX",
        "outputId": "7fcf7ec8-9034-4de7-c2dc-0d2df724d0ad",
        "colab": {
          "base_uri": "https://localhost:8080/",
          "height": 354
        }
      },
      "source": [
        "stackedBarChart('Pclass')"
      ],
      "execution_count": 11,
      "outputs": [
        {
          "output_type": "display_data",
          "data": {
            "image/png": "[encoded data removed]",
            "text/plain": [
              "<Figure size 720x360 with 1 Axes>"
            ]
          },
          "metadata": {
            "tags": [],
            "needs_background": "light"
          }
        }
      ]
    },
    {
      "cell_type": "markdown",
      "metadata": {
        "id": "dHbHscrgzz-m"
      },
      "source": [
        "Just like Sex, the class in which the passengers traveled played a mojor role in their chance of survival. We can very clearly see here that a major portion of passengers from 1st and 2nd class survived while a huge portion of people from 3rd class could not survive. As Passenger Class played a major role on the chances of survival of a passener, we can dive a little deeper to see the association between Pclass and other columns to get a deeper insight of which passenger demographics within Pclass survived."
      ]
    },
    {
      "cell_type": "markdown",
      "metadata": {
        "id": "CjyN4xxVkdRZ"
      },
      "source": [
        "###### Pclass Sex Wise Survival"
      ]
    },
    {
      "cell_type": "code",
      "metadata": {
        "id": "ORuc463p0kVc",
        "outputId": "05d16e12-9ce0-43ce-abff-5bf0246a90c0",
        "colab": {
          "base_uri": "https://localhost:8080/",
          "height": 440
        }
      },
      "source": [
        "import seaborn as sns\n",
        "\n",
        "g = sns.FacetGrid(df_train, col=\"Pclass\", height=5, aspect=.8)\n",
        "g.map(sns.barplot, \"Sex\", \"Survived\")"
      ],
      "execution_count": 43,
      "outputs": [
        {
          "output_type": "stream",
          "text": [
            "/usr/local/lib/python3.6/dist-packages/seaborn/axisgrid.py:645: UserWarning: Using the barplot function without specifying `order` is likely to produce an incorrect plot.\n",
            "  warnings.warn(warning)\n"
          ],
          "name": "stderr"
        },
        {
          "output_type": "execute_result",
          "data": {
            "text/plain": [
              "<seaborn.axisgrid.FacetGrid at 0x7f964da0c908>"
            ]
          },
          "metadata": {
            "tags": []
          },
          "execution_count": 43
        },
        {
          "output_type": "display_data",
          "data": {
            "image/png": "[encoded data removed]",
            "text/plain": [
              "<Figure size 864x360 with 3 Axes>"
            ]
          },
          "metadata": {
            "tags": [],
            "needs_background": "light"
          }
        }
      ]
    },
    {
      "cell_type": "markdown",
      "metadata": {
        "id": "2yFXkAN546BL"
      },
      "source": [
        "A Sex wise Passenger distribution within each class gives us a clear picture that female (1) from each class tend to survive more than men (0). But on the other hand we can also see that men from 1st class tend to have survived more than the men from 2nd or 3rd class."
      ]
    },
    {
      "cell_type": "markdown",
      "metadata": {
        "id": "EURVWYc1qM_F"
      },
      "source": [
        "###### Pclass Embarked Wise Survival"
      ]
    },
    {
      "cell_type": "code",
      "metadata": {
        "id": "qzYyGE3kiOQ3",
        "outputId": "7cbfb042-5947-4218-f716-586f12331446",
        "colab": {
          "base_uri": "https://localhost:8080/",
          "height": 440
        }
      },
      "source": [
        "g = sns.FacetGrid(df_train, col=\"Pclass\", height=5, aspect=.8)\n",
        "g.map(sns.barplot, \"Embarked\", \"Survived\")"
      ],
      "execution_count": 44,
      "outputs": [
        {
          "output_type": "stream",
          "text": [
            "/usr/local/lib/python3.6/dist-packages/seaborn/axisgrid.py:645: UserWarning: Using the barplot function without specifying `order` is likely to produce an incorrect plot.\n",
            "  warnings.warn(warning)\n"
          ],
          "name": "stderr"
        },
        {
          "output_type": "execute_result",
          "data": {
            "text/plain": [
              "<seaborn.axisgrid.FacetGrid at 0x7f964da36780>"
            ]
          },
          "metadata": {
            "tags": []
          },
          "execution_count": 44
        },
        {
          "output_type": "display_data",
          "data": {
            "image/png": "[encoded data removed]",
            "text/plain": [
              "<Figure size 864x360 with 3 Axes>"
            ]
          },
          "metadata": {
            "tags": [],
            "needs_background": "light"
          }
        }
      ]
    },
    {
      "cell_type": "markdown",
      "metadata": {
        "id": "JLZNRta08twy"
      },
      "source": [
        "Diving deeper into the Passenger class and analysing the chances of survival based on the port of embarkemnt, we can see that the port of embarkement does not have much effect on the changes of survival. The rate or survival in each class for different port of survival shows no trend or pattern."
      ]
    },
    {
      "cell_type": "markdown",
      "metadata": {
        "id": "YLjZjr9qnJRL"
      },
      "source": [
        "##### SibSp Based Survival Analysis"
      ]
    },
    {
      "cell_type": "code",
      "metadata": {
        "id": "4-b2Gp_EnJRN",
        "outputId": "5d5194c3-202c-4a14-e4bb-c4fb787e7ccf",
        "colab": {
          "base_uri": "https://localhost:8080/",
          "height": 354
        }
      },
      "source": [
        "stackedBarChart('SibSp')"
      ],
      "execution_count": 12,
      "outputs": [
        {
          "output_type": "display_data",
          "data": {
            "image/png": "[encoded data removed]",
            "text/plain": [
              "<Figure size 720x360 with 1 Axes>"
            ]
          },
          "metadata": {
            "tags": [],
            "needs_background": "light"
          }
        }
      ]
    },
    {
      "cell_type": "markdown",
      "metadata": {
        "id": "-oYdlkoH0nkZ"
      },
      "source": [
        "This graph gives us an interesting insight. Even though in a quick glance, we see that people who traveled alone got to survive more than the people who were with their families. But if we look closer, we can see that the ratio of people who traveled alone and survived is very less compared to the ratio of people who traveled with family and survived."
      ]
    },
    {
      "cell_type": "markdown",
      "metadata": {
        "id": "5xR_OYxvnJoa"
      },
      "source": [
        "##### Parch Based Survival Analysis"
      ]
    },
    {
      "cell_type": "code",
      "metadata": {
        "id": "h9Jq5xP4nJoc",
        "outputId": "918248dd-02f7-479a-e84e-4f4650ea85e8",
        "colab": {
          "base_uri": "https://localhost:8080/",
          "height": 354
        }
      },
      "source": [
        "stackedBarChart('Parch')"
      ],
      "execution_count": 13,
      "outputs": [
        {
          "output_type": "display_data",
          "data": {
            "image/png": "[encoded data removed]",
            "text/plain": [
              "<Figure size 720x360 with 1 Axes>"
            ]
          },
          "metadata": {
            "tags": [],
            "needs_background": "light"
          }
        }
      ]
    },
    {
      "cell_type": "markdown",
      "metadata": {
        "id": "C00gyvlH1X_T"
      },
      "source": [
        "The Parch column gives us a very similar insight to that of the SibSp column. Ratio of people with family tend to have survived more than those who traveled alone."
      ]
    },
    {
      "cell_type": "markdown",
      "metadata": {
        "id": "Iexo_8UKnKLI"
      },
      "source": [
        "##### Embarked Based Survival Analysis"
      ]
    },
    {
      "cell_type": "code",
      "metadata": {
        "id": "ivPW0XDGnKLN",
        "outputId": "916b8aaf-36ee-47fd-84db-2e64a7bb53f6",
        "colab": {
          "base_uri": "https://localhost:8080/",
          "height": 354
        }
      },
      "source": [
        "stackedBarChart('Embarked')"
      ],
      "execution_count": 14,
      "outputs": [
        {
          "output_type": "display_data",
          "data": {
            "image/png": "[encoded data removed]",
            "text/plain": [
              "<Figure size 720x360 with 1 Axes>"
            ]
          },
          "metadata": {
            "tags": [],
            "needs_background": "light"
          }
        }
      ]
    },
    {
      "cell_type": "markdown",
      "metadata": {
        "id": "5hF3efa310Y3"
      },
      "source": [
        "People's port of departure cannot be a factor based on which they were saved. But a plot of survival based on the port of Embarkment gives us some interesting insights. The chances of survival for a passenger who embarked from C or Q is almost 50-50 while majority of people who embarked from S did not survive."
      ]
    },
    {
      "cell_type": "markdown",
      "metadata": {
        "id": "aq3WEoOPjrge"
      },
      "source": [
        "##### Survival Distribution With Age"
      ]
    },
    {
      "cell_type": "code",
      "metadata": {
        "id": "ICWCRnIrjJtP",
        "outputId": "32a96c4c-ae5b-402f-d00d-0f81bcceb635",
        "colab": {
          "base_uri": "https://localhost:8080/",
          "height": 220
        }
      },
      "source": [
        "facet = sns.FacetGrid(df_train, hue=\"Survived\",aspect=4)\n",
        "facet.map(sns.kdeplot,'Age',shade= True)\n",
        "facet.set(xlim=(0, df_train['Age'].max()))\n",
        "facet.add_legend()\n",
        " \n",
        "plt.show()"
      ],
      "execution_count": 8,
      "outputs": [
        {
          "output_type": "display_data",
          "data": {
            "image/png": "[encoded data removed]",
            "text/plain": [
              "<Figure size 915.875x216 with 1 Axes>"
            ]
          },
          "metadata": {
            "tags": [],
            "needs_background": "light"
          }
        }
      ]
    },
    {
      "cell_type": "markdown",
      "metadata": {
        "id": "lirpo_Gk3OZb"
      },
      "source": [
        "The survival distribution based on Age gives us a good insight of which age group survived more. And from the distribution we can clearly see that children below the age of 15 got to survive more than the teenagers of adults as their rate of survival is meak compared to the children."
      ]
    },
    {
      "cell_type": "code",
      "metadata": {
        "id": "5O1lR-yFqxn1",
        "outputId": "a01e8943-c8d6-48db-cd33-d1ee086550c4",
        "colab": {
          "base_uri": "https://localhost:8080/",
          "height": 314
        }
      },
      "source": [
        "g = sns.FacetGrid(df_train, col=\"Pclass\", height=4, aspect=.5)\n",
        "g.map(sns.histplot, \"SibSp\", \"Survived\")"
      ],
      "execution_count": null,
      "outputs": [
        {
          "output_type": "execute_result",
          "data": {
            "text/plain": [
              "<seaborn.axisgrid.FacetGrid at 0x7f83d854ddd8>"
            ]
          },
          "metadata": {
            "tags": []
          },
          "execution_count": 27
        },
        {
          "output_type": "display_data",
          "data": {
            "image/png": "[encoded data removed]",
            "text/plain": [
              "<Figure size 432x288 with 3 Axes>"
            ]
          },
          "metadata": {
            "tags": [],
            "needs_background": "light"
          }
        }
      ]
    },
    {
      "cell_type": "markdown",
      "metadata": {
        "id": "ywMWqfz2vjn0"
      },
      "source": [
        "### Feature Engineering"
      ]
    },
    {
      "cell_type": "markdown",
      "metadata": {
        "id": "_Fv_OX7ayaVC"
      },
      "source": [
        "#### Encode Categorical Columns\n",
        "\n",
        "Categorical Columns: Sex, Embarked "
      ]
    },
    {
      "cell_type": "code",
      "metadata": {
        "id": "isD6EDBXK9ki"
      },
      "source": [
        "# Encoding Categorical Values\n",
        "df_train['Sex'] = df_train['Sex'].map( {'male': 0, 'female': 1} ).astype(int)\n",
        "df_test['Sex'] = df_test['Sex'].map( {'male': 0, 'female': 1} ).astype(int)\n",
        "\n",
        "df_train['Embarked'] = df_train['Embarked'].map( {'C':0, 'Q':1, 'S': 2} ).astype(int)\n",
        "df_test['Embarked'] = df_test['Embarked'].map( {'C':0, 'Q':1, 'S': 2} ).astype(int)"
      ],
      "execution_count": 97,
      "outputs": []
    },
    {
      "cell_type": "code",
      "metadata": {
        "id": "OSo-wXYOgliV",
        "outputId": "8b85db5e-6d1c-4b24-b2e9-dd7f9f16d902",
        "colab": {
          "base_uri": "https://localhost:8080/",
          "height": 255
        }
      },
      "source": [
        "df_train.head()"
      ],
      "execution_count": 98,
      "outputs": [
        {
          "output_type": "execute_result",
          "data": {
            "text/html": [
              "<div>\n",
              "<style scoped>\n",
              "    .dataframe tbody tr th:only-of-type {\n",
              "        vertical-align: middle;\n",
              "    }\n",
              "\n",
              "    .dataframe tbody tr th {\n",
              "        vertical-align: top;\n",
              "    }\n",
              "\n",
              "    .dataframe thead th {\n",
              "        text-align: right;\n",
              "    }\n",
              "</style>\n",
              "<table border=\"1\" class=\"dataframe\">\n",
              "  <thead>\n",
              "    <tr style=\"text-align: right;\">\n",
              "      <th></th>\n",
              "      <th>PassengerId</th>\n",
              "      <th>Survived</th>\n",
              "      <th>Pclass</th>\n",
              "      <th>Name</th>\n",
              "      <th>Sex</th>\n",
              "      <th>Age</th>\n",
              "      <th>SibSp</th>\n",
              "      <th>Parch</th>\n",
              "      <th>Ticket</th>\n",
              "      <th>Fare</th>\n",
              "      <th>Embarked</th>\n",
              "    </tr>\n",
              "  </thead>\n",
              "  <tbody>\n",
              "    <tr>\n",
              "      <th>0</th>\n",
              "      <td>1</td>\n",
              "      <td>0</td>\n",
              "      <td>3</td>\n",
              "      <td>Braund, Mr. Owen Harris</td>\n",
              "      <td>0</td>\n",
              "      <td>22</td>\n",
              "      <td>1</td>\n",
              "      <td>0</td>\n",
              "      <td>A/5 21171</td>\n",
              "      <td>7.2500</td>\n",
              "      <td>2</td>\n",
              "    </tr>\n",
              "    <tr>\n",
              "      <th>1</th>\n",
              "      <td>2</td>\n",
              "      <td>1</td>\n",
              "      <td>1</td>\n",
              "      <td>Cumings, Mrs. John Bradley (Florence Briggs Th...</td>\n",
              "      <td>1</td>\n",
              "      <td>38</td>\n",
              "      <td>1</td>\n",
              "      <td>0</td>\n",
              "      <td>PC 17599</td>\n",
              "      <td>71.2833</td>\n",
              "      <td>0</td>\n",
              "    </tr>\n",
              "    <tr>\n",
              "      <th>2</th>\n",
              "      <td>3</td>\n",
              "      <td>1</td>\n",
              "      <td>3</td>\n",
              "      <td>Heikkinen, Miss. Laina</td>\n",
              "      <td>1</td>\n",
              "      <td>26</td>\n",
              "      <td>0</td>\n",
              "      <td>0</td>\n",
              "      <td>STON/O2. 3101282</td>\n",
              "      <td>7.9250</td>\n",
              "      <td>2</td>\n",
              "    </tr>\n",
              "    <tr>\n",
              "      <th>3</th>\n",
              "      <td>4</td>\n",
              "      <td>1</td>\n",
              "      <td>1</td>\n",
              "      <td>Futrelle, Mrs. Jacques Heath (Lily May Peel)</td>\n",
              "      <td>1</td>\n",
              "      <td>35</td>\n",
              "      <td>1</td>\n",
              "      <td>0</td>\n",
              "      <td>113803</td>\n",
              "      <td>53.1000</td>\n",
              "      <td>2</td>\n",
              "    </tr>\n",
              "    <tr>\n",
              "      <th>4</th>\n",
              "      <td>5</td>\n",
              "      <td>0</td>\n",
              "      <td>3</td>\n",
              "      <td>Allen, Mr. William Henry</td>\n",
              "      <td>0</td>\n",
              "      <td>35</td>\n",
              "      <td>0</td>\n",
              "      <td>0</td>\n",
              "      <td>373450</td>\n",
              "      <td>8.0500</td>\n",
              "      <td>2</td>\n",
              "    </tr>\n",
              "  </tbody>\n",
              "</table>\n",
              "</div>"
            ],
            "text/plain": [
              "   PassengerId  Survived  Pclass  ...            Ticket     Fare  Embarked\n",
              "0            1         0       3  ...         A/5 21171   7.2500         2\n",
              "1            2         1       1  ...          PC 17599  71.2833         0\n",
              "2            3         1       3  ...  STON/O2. 3101282   7.9250         2\n",
              "3            4         1       1  ...            113803  53.1000         2\n",
              "4            5         0       3  ...            373450   8.0500         2\n",
              "\n",
              "[5 rows x 11 columns]"
            ]
          },
          "metadata": {
            "tags": []
          },
          "execution_count": 98
        }
      ]
    },
    {
      "cell_type": "code",
      "metadata": {
        "id": "RcbKq0c6uNzW",
        "outputId": "c9ae9c2f-014f-484f-c997-4432d5c5d361",
        "colab": {
          "base_uri": "https://localhost:8080/",
          "height": 204
        }
      },
      "source": [
        "df_test.head()"
      ],
      "execution_count": 99,
      "outputs": [
        {
          "output_type": "execute_result",
          "data": {
            "text/html": [
              "<div>\n",
              "<style scoped>\n",
              "    .dataframe tbody tr th:only-of-type {\n",
              "        vertical-align: middle;\n",
              "    }\n",
              "\n",
              "    .dataframe tbody tr th {\n",
              "        vertical-align: top;\n",
              "    }\n",
              "\n",
              "    .dataframe thead th {\n",
              "        text-align: right;\n",
              "    }\n",
              "</style>\n",
              "<table border=\"1\" class=\"dataframe\">\n",
              "  <thead>\n",
              "    <tr style=\"text-align: right;\">\n",
              "      <th></th>\n",
              "      <th>PassengerId</th>\n",
              "      <th>Pclass</th>\n",
              "      <th>Name</th>\n",
              "      <th>Sex</th>\n",
              "      <th>Age</th>\n",
              "      <th>SibSp</th>\n",
              "      <th>Parch</th>\n",
              "      <th>Ticket</th>\n",
              "      <th>Fare</th>\n",
              "      <th>Embarked</th>\n",
              "    </tr>\n",
              "  </thead>\n",
              "  <tbody>\n",
              "    <tr>\n",
              "      <th>0</th>\n",
              "      <td>892</td>\n",
              "      <td>3</td>\n",
              "      <td>Kelly, Mr. James</td>\n",
              "      <td>0</td>\n",
              "      <td>34</td>\n",
              "      <td>0</td>\n",
              "      <td>0</td>\n",
              "      <td>330911</td>\n",
              "      <td>7.8292</td>\n",
              "      <td>1</td>\n",
              "    </tr>\n",
              "    <tr>\n",
              "      <th>1</th>\n",
              "      <td>893</td>\n",
              "      <td>3</td>\n",
              "      <td>Wilkes, Mrs. James (Ellen Needs)</td>\n",
              "      <td>1</td>\n",
              "      <td>47</td>\n",
              "      <td>1</td>\n",
              "      <td>0</td>\n",
              "      <td>363272</td>\n",
              "      <td>7.0000</td>\n",
              "      <td>2</td>\n",
              "    </tr>\n",
              "    <tr>\n",
              "      <th>2</th>\n",
              "      <td>894</td>\n",
              "      <td>2</td>\n",
              "      <td>Myles, Mr. Thomas Francis</td>\n",
              "      <td>0</td>\n",
              "      <td>62</td>\n",
              "      <td>0</td>\n",
              "      <td>0</td>\n",
              "      <td>240276</td>\n",
              "      <td>9.6875</td>\n",
              "      <td>1</td>\n",
              "    </tr>\n",
              "    <tr>\n",
              "      <th>3</th>\n",
              "      <td>895</td>\n",
              "      <td>3</td>\n",
              "      <td>Wirz, Mr. Albert</td>\n",
              "      <td>0</td>\n",
              "      <td>27</td>\n",
              "      <td>0</td>\n",
              "      <td>0</td>\n",
              "      <td>315154</td>\n",
              "      <td>8.6625</td>\n",
              "      <td>2</td>\n",
              "    </tr>\n",
              "    <tr>\n",
              "      <th>4</th>\n",
              "      <td>896</td>\n",
              "      <td>3</td>\n",
              "      <td>Hirvonen, Mrs. Alexander (Helga E Lindqvist)</td>\n",
              "      <td>1</td>\n",
              "      <td>22</td>\n",
              "      <td>1</td>\n",
              "      <td>1</td>\n",
              "      <td>3101298</td>\n",
              "      <td>12.2875</td>\n",
              "      <td>2</td>\n",
              "    </tr>\n",
              "  </tbody>\n",
              "</table>\n",
              "</div>"
            ],
            "text/plain": [
              "   PassengerId  Pclass  ...     Fare  Embarked\n",
              "0          892       3  ...   7.8292         1\n",
              "1          893       3  ...   7.0000         2\n",
              "2          894       2  ...   9.6875         1\n",
              "3          895       3  ...   8.6625         2\n",
              "4          896       3  ...  12.2875         2\n",
              "\n",
              "[5 rows x 10 columns]"
            ]
          },
          "metadata": {
            "tags": []
          },
          "execution_count": 99
        }
      ]
    },
    {
      "cell_type": "code",
      "metadata": {
        "id": "fVrwvdopccLQ"
      },
      "source": [
        "# Save Cleaned Dataset\n",
        "df_train.to_csv(datasetPath+'Cleaned_Train.csv', index=False)\n",
        "df_test.to_csv(datasetPath+'Cleaned_Test.csv', index=False)"
      ],
      "execution_count": 100,
      "outputs": []
    },
    {
      "cell_type": "code",
      "metadata": {
        "id": "T0fiZ1ZV4Z-w"
      },
      "source": [
        "df_train = pd.read_csv(datasetPath+'Cleaned_Train.csv')\n",
        "df_test = pd.read_csv(datasetPath+'Cleaned_Test.csv')"
      ],
      "execution_count": 49,
      "outputs": []
    },
    {
      "cell_type": "markdown",
      "metadata": {
        "id": "j1Jmpmxmvtn_"
      },
      "source": [
        "#### Extracting Data From Name Column"
      ]
    },
    {
      "cell_type": "code",
      "metadata": {
        "id": "upsmYiqqvtEG"
      },
      "source": [
        "df_train['Title'] = df_train['Name'].str.extract(' ([A-Za-z]+)\\.', expand=False)\n",
        "df_test['Title'] = df_test['Name'].str.extract(' ([A-Za-z]+)\\.', expand=False)"
      ],
      "execution_count": 101,
      "outputs": []
    },
    {
      "cell_type": "code",
      "metadata": {
        "id": "Y9-S0MbOwltC",
        "outputId": "4e7035cd-13c6-4de7-cc66-206f57a1b961",
        "colab": {
          "base_uri": "https://localhost:8080/"
        }
      },
      "source": [
        "df_train.info();\n",
        "df_test.info();"
      ],
      "execution_count": 102,
      "outputs": [
        {
          "output_type": "stream",
          "text": [
            "<class 'pandas.core.frame.DataFrame'>\n",
            "RangeIndex: 891 entries, 0 to 890\n",
            "Data columns (total 12 columns):\n",
            " #   Column       Non-Null Count  Dtype  \n",
            "---  ------       --------------  -----  \n",
            " 0   PassengerId  891 non-null    int64  \n",
            " 1   Survived     891 non-null    int64  \n",
            " 2   Pclass       891 non-null    int64  \n",
            " 3   Name         891 non-null    object \n",
            " 4   Sex          891 non-null    int64  \n",
            " 5   Age          891 non-null    int64  \n",
            " 6   SibSp        891 non-null    int64  \n",
            " 7   Parch        891 non-null    int64  \n",
            " 8   Ticket       891 non-null    object \n",
            " 9   Fare         891 non-null    float64\n",
            " 10  Embarked     891 non-null    int64  \n",
            " 11  Title        891 non-null    object \n",
            "dtypes: float64(1), int64(8), object(3)\n",
            "memory usage: 83.7+ KB\n",
            "<class 'pandas.core.frame.DataFrame'>\n",
            "RangeIndex: 418 entries, 0 to 417\n",
            "Data columns (total 11 columns):\n",
            " #   Column       Non-Null Count  Dtype  \n",
            "---  ------       --------------  -----  \n",
            " 0   PassengerId  418 non-null    int64  \n",
            " 1   Pclass       418 non-null    int64  \n",
            " 2   Name         418 non-null    object \n",
            " 3   Sex          418 non-null    int64  \n",
            " 4   Age          418 non-null    int64  \n",
            " 5   SibSp        418 non-null    int64  \n",
            " 6   Parch        418 non-null    int64  \n",
            " 7   Ticket       418 non-null    object \n",
            " 8   Fare         418 non-null    float64\n",
            " 9   Embarked     418 non-null    int64  \n",
            " 10  Title        418 non-null    object \n",
            "dtypes: float64(1), int64(7), object(3)\n",
            "memory usage: 36.0+ KB\n"
          ],
          "name": "stdout"
        }
      ]
    },
    {
      "cell_type": "code",
      "metadata": {
        "id": "VC_zNTG6xD3I",
        "outputId": "a818f9d5-f243-4adc-ea37-3b166a5f1de0",
        "colab": {
          "base_uri": "https://localhost:8080/"
        }
      },
      "source": [
        "df_train.Title.value_counts()"
      ],
      "execution_count": 103,
      "outputs": [
        {
          "output_type": "execute_result",
          "data": {
            "text/plain": [
              "Mr          517\n",
              "Miss        182\n",
              "Mrs         125\n",
              "Master       40\n",
              "Dr            7\n",
              "Rev           6\n",
              "Mlle          2\n",
              "Major         2\n",
              "Col           2\n",
              "Lady          1\n",
              "Jonkheer      1\n",
              "Don           1\n",
              "Capt          1\n",
              "Mme           1\n",
              "Sir           1\n",
              "Countess      1\n",
              "Ms            1\n",
              "Name: Title, dtype: int64"
            ]
          },
          "metadata": {
            "tags": []
          },
          "execution_count": 103
        }
      ]
    },
    {
      "cell_type": "code",
      "metadata": {
        "id": "SUaqxt57wroV",
        "outputId": "241bd1b1-be26-4de1-8b6f-0fe461231630",
        "colab": {
          "base_uri": "https://localhost:8080/"
        }
      },
      "source": [
        "df_test.Title.value_counts()"
      ],
      "execution_count": 104,
      "outputs": [
        {
          "output_type": "execute_result",
          "data": {
            "text/plain": [
              "Mr        240\n",
              "Miss       78\n",
              "Mrs        72\n",
              "Master     21\n",
              "Col         2\n",
              "Rev         2\n",
              "Dona        1\n",
              "Dr          1\n",
              "Ms          1\n",
              "Name: Title, dtype: int64"
            ]
          },
          "metadata": {
            "tags": []
          },
          "execution_count": 104
        }
      ]
    },
    {
      "cell_type": "code",
      "metadata": {
        "id": "XCt7KKbBxgm7"
      },
      "source": [
        "titleMap = {\"Mr\": 0, \"Miss\": 1, \"Mrs\": 2, \n",
        "                 \"Master\": 3, \"Dr\": 3, \"Rev\": 3, \"Col\": 3, \"Major\": 3, \"Mlle\": 3,\"Countess\": 3,\n",
        "                 \"Ms\": 3, \"Lady\": 3, \"Jonkheer\": 3, \"Don\": 3, \"Dona\" : 3, \"Mme\": 3,\"Capt\": 3,\"Sir\": 3}\n",
        "\n",
        "df_train['Title'] = df_train['Title'].map(titleMap)\n",
        "df_test['Title'] = df_test['Title'].map(titleMap)"
      ],
      "execution_count": 105,
      "outputs": []
    },
    {
      "cell_type": "code",
      "metadata": {
        "id": "BYi5KkhJxzQ4",
        "outputId": "557c51ef-d9ff-424b-b2c0-ed7eeb48f2f7",
        "colab": {
          "base_uri": "https://localhost:8080/",
          "height": 272
        }
      },
      "source": [
        "df_train.head()"
      ],
      "execution_count": 106,
      "outputs": [
        {
          "output_type": "execute_result",
          "data": {
            "text/html": [
              "<div>\n",
              "<style scoped>\n",
              "    .dataframe tbody tr th:only-of-type {\n",
              "        vertical-align: middle;\n",
              "    }\n",
              "\n",
              "    .dataframe tbody tr th {\n",
              "        vertical-align: top;\n",
              "    }\n",
              "\n",
              "    .dataframe thead th {\n",
              "        text-align: right;\n",
              "    }\n",
              "</style>\n",
              "<table border=\"1\" class=\"dataframe\">\n",
              "  <thead>\n",
              "    <tr style=\"text-align: right;\">\n",
              "      <th></th>\n",
              "      <th>PassengerId</th>\n",
              "      <th>Survived</th>\n",
              "      <th>Pclass</th>\n",
              "      <th>Name</th>\n",
              "      <th>Sex</th>\n",
              "      <th>Age</th>\n",
              "      <th>SibSp</th>\n",
              "      <th>Parch</th>\n",
              "      <th>Ticket</th>\n",
              "      <th>Fare</th>\n",
              "      <th>Embarked</th>\n",
              "      <th>Title</th>\n",
              "    </tr>\n",
              "  </thead>\n",
              "  <tbody>\n",
              "    <tr>\n",
              "      <th>0</th>\n",
              "      <td>1</td>\n",
              "      <td>0</td>\n",
              "      <td>3</td>\n",
              "      <td>Braund, Mr. Owen Harris</td>\n",
              "      <td>0</td>\n",
              "      <td>22</td>\n",
              "      <td>1</td>\n",
              "      <td>0</td>\n",
              "      <td>A/5 21171</td>\n",
              "      <td>7.2500</td>\n",
              "      <td>2</td>\n",
              "      <td>0</td>\n",
              "    </tr>\n",
              "    <tr>\n",
              "      <th>1</th>\n",
              "      <td>2</td>\n",
              "      <td>1</td>\n",
              "      <td>1</td>\n",
              "      <td>Cumings, Mrs. John Bradley (Florence Briggs Th...</td>\n",
              "      <td>1</td>\n",
              "      <td>38</td>\n",
              "      <td>1</td>\n",
              "      <td>0</td>\n",
              "      <td>PC 17599</td>\n",
              "      <td>71.2833</td>\n",
              "      <td>0</td>\n",
              "      <td>2</td>\n",
              "    </tr>\n",
              "    <tr>\n",
              "      <th>2</th>\n",
              "      <td>3</td>\n",
              "      <td>1</td>\n",
              "      <td>3</td>\n",
              "      <td>Heikkinen, Miss. Laina</td>\n",
              "      <td>1</td>\n",
              "      <td>26</td>\n",
              "      <td>0</td>\n",
              "      <td>0</td>\n",
              "      <td>STON/O2. 3101282</td>\n",
              "      <td>7.9250</td>\n",
              "      <td>2</td>\n",
              "      <td>1</td>\n",
              "    </tr>\n",
              "    <tr>\n",
              "      <th>3</th>\n",
              "      <td>4</td>\n",
              "      <td>1</td>\n",
              "      <td>1</td>\n",
              "      <td>Futrelle, Mrs. Jacques Heath (Lily May Peel)</td>\n",
              "      <td>1</td>\n",
              "      <td>35</td>\n",
              "      <td>1</td>\n",
              "      <td>0</td>\n",
              "      <td>113803</td>\n",
              "      <td>53.1000</td>\n",
              "      <td>2</td>\n",
              "      <td>2</td>\n",
              "    </tr>\n",
              "    <tr>\n",
              "      <th>4</th>\n",
              "      <td>5</td>\n",
              "      <td>0</td>\n",
              "      <td>3</td>\n",
              "      <td>Allen, Mr. William Henry</td>\n",
              "      <td>0</td>\n",
              "      <td>35</td>\n",
              "      <td>0</td>\n",
              "      <td>0</td>\n",
              "      <td>373450</td>\n",
              "      <td>8.0500</td>\n",
              "      <td>2</td>\n",
              "      <td>0</td>\n",
              "    </tr>\n",
              "  </tbody>\n",
              "</table>\n",
              "</div>"
            ],
            "text/plain": [
              "   PassengerId  Survived  Pclass  ...     Fare  Embarked  Title\n",
              "0            1         0       3  ...   7.2500         2      0\n",
              "1            2         1       1  ...  71.2833         0      2\n",
              "2            3         1       3  ...   7.9250         2      1\n",
              "3            4         1       1  ...  53.1000         2      2\n",
              "4            5         0       3  ...   8.0500         2      0\n",
              "\n",
              "[5 rows x 12 columns]"
            ]
          },
          "metadata": {
            "tags": []
          },
          "execution_count": 106
        }
      ]
    },
    {
      "cell_type": "markdown",
      "metadata": {
        "id": "174VJnrKxLaC"
      },
      "source": [
        "#### Categorizing Age"
      ]
    },
    {
      "cell_type": "markdown",
      "metadata": {
        "id": "445y-V6Az_g_"
      },
      "source": [
        "Let's find out the minimum and maximum age in the 'Age' column. This information will help us determine the resonable number of buckets we might need to create age group categories."
      ]
    },
    {
      "cell_type": "code",
      "metadata": {
        "id": "B0h8b1uSxQb9",
        "outputId": "28e3a8ec-41c8-444c-a6e5-2ce3143ec6e9",
        "colab": {
          "base_uri": "https://localhost:8080/"
        }
      },
      "source": [
        "df_train['Age'].describe()"
      ],
      "execution_count": 107,
      "outputs": [
        {
          "output_type": "execute_result",
          "data": {
            "text/plain": [
              "count    891.000000\n",
              "mean      29.544332\n",
              "std       13.013778\n",
              "min        0.000000\n",
              "25%       22.000000\n",
              "50%       29.000000\n",
              "75%       35.000000\n",
              "max       80.000000\n",
              "Name: Age, dtype: float64"
            ]
          },
          "metadata": {
            "tags": []
          },
          "execution_count": 107
        }
      ]
    },
    {
      "cell_type": "markdown",
      "metadata": {
        "id": "p-7PvKaK0kw6"
      },
      "source": [
        "As we are going to modify this column lets quickly perform an analysis of age distribution against survival to see how the survial rate trends over age."
      ]
    },
    {
      "cell_type": "code",
      "metadata": {
        "id": "OeOh7Ohh0TfW",
        "outputId": "1eb8f7bc-1ca1-4c30-c714-4a02f3cf1dcf",
        "colab": {
          "base_uri": "https://localhost:8080/",
          "height": 220
        }
      },
      "source": [
        "facet = sns.FacetGrid(df_train, hue=\"Survived\",aspect=4)\n",
        "facet.map(sns.kdeplot,'Age',shade= True)\n",
        "facet.set(xlim=(0, df_train['Age'].max()))\n",
        "facet.add_legend()\n",
        " \n",
        "plt.show()"
      ],
      "execution_count": 108,
      "outputs": [
        {
          "output_type": "display_data",
          "data": {
            "image/png": "[encoded data removed]",
            "text/plain": [
              "<Figure size 915.875x216 with 1 Axes>"
            ]
          },
          "metadata": {
            "tags": [],
            "needs_background": "light"
          }
        }
      ]
    },
    {
      "cell_type": "code",
      "metadata": {
        "id": "AKKaImxE1TZQ"
      },
      "source": [
        "df_train.loc[ df_train['Age'] <= 20, 'Age'] = 0\n",
        "df_train.loc[(df_train['Age'] > 20) & (df_train['Age'] <= 40), 'Age'] = 1\n",
        "df_train.loc[(df_train['Age'] > 40) & (df_train['Age'] <= 60), 'Age'] = 2\n",
        "df_train.loc[(df_train['Age'] > 60) & (df_train['Age'] <= 80), 'Age'] = 3"
      ],
      "execution_count": 109,
      "outputs": []
    },
    {
      "cell_type": "code",
      "metadata": {
        "id": "Zzm-_Jfb2Jza",
        "outputId": "e5355831-30d9-49fa-9ddf-448436642fe5",
        "colab": {
          "base_uri": "https://localhost:8080/",
          "height": 272
        }
      },
      "source": [
        "df_train.head()"
      ],
      "execution_count": 110,
      "outputs": [
        {
          "output_type": "execute_result",
          "data": {
            "text/html": [
              "<div>\n",
              "<style scoped>\n",
              "    .dataframe tbody tr th:only-of-type {\n",
              "        vertical-align: middle;\n",
              "    }\n",
              "\n",
              "    .dataframe tbody tr th {\n",
              "        vertical-align: top;\n",
              "    }\n",
              "\n",
              "    .dataframe thead th {\n",
              "        text-align: right;\n",
              "    }\n",
              "</style>\n",
              "<table border=\"1\" class=\"dataframe\">\n",
              "  <thead>\n",
              "    <tr style=\"text-align: right;\">\n",
              "      <th></th>\n",
              "      <th>PassengerId</th>\n",
              "      <th>Survived</th>\n",
              "      <th>Pclass</th>\n",
              "      <th>Name</th>\n",
              "      <th>Sex</th>\n",
              "      <th>Age</th>\n",
              "      <th>SibSp</th>\n",
              "      <th>Parch</th>\n",
              "      <th>Ticket</th>\n",
              "      <th>Fare</th>\n",
              "      <th>Embarked</th>\n",
              "      <th>Title</th>\n",
              "    </tr>\n",
              "  </thead>\n",
              "  <tbody>\n",
              "    <tr>\n",
              "      <th>0</th>\n",
              "      <td>1</td>\n",
              "      <td>0</td>\n",
              "      <td>3</td>\n",
              "      <td>Braund, Mr. Owen Harris</td>\n",
              "      <td>0</td>\n",
              "      <td>1</td>\n",
              "      <td>1</td>\n",
              "      <td>0</td>\n",
              "      <td>A/5 21171</td>\n",
              "      <td>7.2500</td>\n",
              "      <td>2</td>\n",
              "      <td>0</td>\n",
              "    </tr>\n",
              "    <tr>\n",
              "      <th>1</th>\n",
              "      <td>2</td>\n",
              "      <td>1</td>\n",
              "      <td>1</td>\n",
              "      <td>Cumings, Mrs. John Bradley (Florence Briggs Th...</td>\n",
              "      <td>1</td>\n",
              "      <td>1</td>\n",
              "      <td>1</td>\n",
              "      <td>0</td>\n",
              "      <td>PC 17599</td>\n",
              "      <td>71.2833</td>\n",
              "      <td>0</td>\n",
              "      <td>2</td>\n",
              "    </tr>\n",
              "    <tr>\n",
              "      <th>2</th>\n",
              "      <td>3</td>\n",
              "      <td>1</td>\n",
              "      <td>3</td>\n",
              "      <td>Heikkinen, Miss. Laina</td>\n",
              "      <td>1</td>\n",
              "      <td>1</td>\n",
              "      <td>0</td>\n",
              "      <td>0</td>\n",
              "      <td>STON/O2. 3101282</td>\n",
              "      <td>7.9250</td>\n",
              "      <td>2</td>\n",
              "      <td>1</td>\n",
              "    </tr>\n",
              "    <tr>\n",
              "      <th>3</th>\n",
              "      <td>4</td>\n",
              "      <td>1</td>\n",
              "      <td>1</td>\n",
              "      <td>Futrelle, Mrs. Jacques Heath (Lily May Peel)</td>\n",
              "      <td>1</td>\n",
              "      <td>1</td>\n",
              "      <td>1</td>\n",
              "      <td>0</td>\n",
              "      <td>113803</td>\n",
              "      <td>53.1000</td>\n",
              "      <td>2</td>\n",
              "      <td>2</td>\n",
              "    </tr>\n",
              "    <tr>\n",
              "      <th>4</th>\n",
              "      <td>5</td>\n",
              "      <td>0</td>\n",
              "      <td>3</td>\n",
              "      <td>Allen, Mr. William Henry</td>\n",
              "      <td>0</td>\n",
              "      <td>1</td>\n",
              "      <td>0</td>\n",
              "      <td>0</td>\n",
              "      <td>373450</td>\n",
              "      <td>8.0500</td>\n",
              "      <td>2</td>\n",
              "      <td>0</td>\n",
              "    </tr>\n",
              "  </tbody>\n",
              "</table>\n",
              "</div>"
            ],
            "text/plain": [
              "   PassengerId  Survived  Pclass  ...     Fare  Embarked  Title\n",
              "0            1         0       3  ...   7.2500         2      0\n",
              "1            2         1       1  ...  71.2833         0      2\n",
              "2            3         1       3  ...   7.9250         2      1\n",
              "3            4         1       1  ...  53.1000         2      2\n",
              "4            5         0       3  ...   8.0500         2      0\n",
              "\n",
              "[5 rows x 12 columns]"
            ]
          },
          "metadata": {
            "tags": []
          },
          "execution_count": 110
        }
      ]
    },
    {
      "cell_type": "code",
      "metadata": {
        "id": "whDCszxA2AFf"
      },
      "source": [
        "df_test.loc[ df_test['Age'] <= 20, 'Age'] = 0\n",
        "df_test.loc[(df_test['Age'] > 20) & (df_test['Age'] <= 40), 'Age'] = 1\n",
        "df_test.loc[(df_test['Age'] > 40) & (df_test['Age'] <= 60), 'Age'] = 2\n",
        "df_test.loc[(df_test['Age'] > 60) & (df_test['Age'] <= 80), 'Age'] = 3"
      ],
      "execution_count": 111,
      "outputs": []
    },
    {
      "cell_type": "code",
      "metadata": {
        "id": "8TFFnsM42Olv",
        "outputId": "1421e434-c78a-4c39-f4e6-0787a1e5565f",
        "colab": {
          "base_uri": "https://localhost:8080/",
          "height": 221
        }
      },
      "source": [
        "df_test.head()"
      ],
      "execution_count": 112,
      "outputs": [
        {
          "output_type": "execute_result",
          "data": {
            "text/html": [
              "<div>\n",
              "<style scoped>\n",
              "    .dataframe tbody tr th:only-of-type {\n",
              "        vertical-align: middle;\n",
              "    }\n",
              "\n",
              "    .dataframe tbody tr th {\n",
              "        vertical-align: top;\n",
              "    }\n",
              "\n",
              "    .dataframe thead th {\n",
              "        text-align: right;\n",
              "    }\n",
              "</style>\n",
              "<table border=\"1\" class=\"dataframe\">\n",
              "  <thead>\n",
              "    <tr style=\"text-align: right;\">\n",
              "      <th></th>\n",
              "      <th>PassengerId</th>\n",
              "      <th>Pclass</th>\n",
              "      <th>Name</th>\n",
              "      <th>Sex</th>\n",
              "      <th>Age</th>\n",
              "      <th>SibSp</th>\n",
              "      <th>Parch</th>\n",
              "      <th>Ticket</th>\n",
              "      <th>Fare</th>\n",
              "      <th>Embarked</th>\n",
              "      <th>Title</th>\n",
              "    </tr>\n",
              "  </thead>\n",
              "  <tbody>\n",
              "    <tr>\n",
              "      <th>0</th>\n",
              "      <td>892</td>\n",
              "      <td>3</td>\n",
              "      <td>Kelly, Mr. James</td>\n",
              "      <td>0</td>\n",
              "      <td>1</td>\n",
              "      <td>0</td>\n",
              "      <td>0</td>\n",
              "      <td>330911</td>\n",
              "      <td>7.8292</td>\n",
              "      <td>1</td>\n",
              "      <td>0</td>\n",
              "    </tr>\n",
              "    <tr>\n",
              "      <th>1</th>\n",
              "      <td>893</td>\n",
              "      <td>3</td>\n",
              "      <td>Wilkes, Mrs. James (Ellen Needs)</td>\n",
              "      <td>1</td>\n",
              "      <td>2</td>\n",
              "      <td>1</td>\n",
              "      <td>0</td>\n",
              "      <td>363272</td>\n",
              "      <td>7.0000</td>\n",
              "      <td>2</td>\n",
              "      <td>2</td>\n",
              "    </tr>\n",
              "    <tr>\n",
              "      <th>2</th>\n",
              "      <td>894</td>\n",
              "      <td>2</td>\n",
              "      <td>Myles, Mr. Thomas Francis</td>\n",
              "      <td>0</td>\n",
              "      <td>3</td>\n",
              "      <td>0</td>\n",
              "      <td>0</td>\n",
              "      <td>240276</td>\n",
              "      <td>9.6875</td>\n",
              "      <td>1</td>\n",
              "      <td>0</td>\n",
              "    </tr>\n",
              "    <tr>\n",
              "      <th>3</th>\n",
              "      <td>895</td>\n",
              "      <td>3</td>\n",
              "      <td>Wirz, Mr. Albert</td>\n",
              "      <td>0</td>\n",
              "      <td>1</td>\n",
              "      <td>0</td>\n",
              "      <td>0</td>\n",
              "      <td>315154</td>\n",
              "      <td>8.6625</td>\n",
              "      <td>2</td>\n",
              "      <td>0</td>\n",
              "    </tr>\n",
              "    <tr>\n",
              "      <th>4</th>\n",
              "      <td>896</td>\n",
              "      <td>3</td>\n",
              "      <td>Hirvonen, Mrs. Alexander (Helga E Lindqvist)</td>\n",
              "      <td>1</td>\n",
              "      <td>1</td>\n",
              "      <td>1</td>\n",
              "      <td>1</td>\n",
              "      <td>3101298</td>\n",
              "      <td>12.2875</td>\n",
              "      <td>2</td>\n",
              "      <td>2</td>\n",
              "    </tr>\n",
              "  </tbody>\n",
              "</table>\n",
              "</div>"
            ],
            "text/plain": [
              "   PassengerId  Pclass  ... Embarked  Title\n",
              "0          892       3  ...        1      0\n",
              "1          893       3  ...        2      2\n",
              "2          894       2  ...        1      0\n",
              "3          895       3  ...        2      0\n",
              "4          896       3  ...        2      2\n",
              "\n",
              "[5 rows x 11 columns]"
            ]
          },
          "metadata": {
            "tags": []
          },
          "execution_count": 112
        }
      ]
    },
    {
      "cell_type": "markdown",
      "metadata": {
        "id": "nfRBGYKC2U0w"
      },
      "source": [
        "#### Categorizing Fare"
      ]
    },
    {
      "cell_type": "code",
      "metadata": {
        "id": "4lbGrMjO2dDC",
        "outputId": "7976a679-bcaf-4b0f-9483-dda6c862b8fb",
        "colab": {
          "base_uri": "https://localhost:8080/"
        }
      },
      "source": [
        "df_train['Fare'].describe()"
      ],
      "execution_count": 113,
      "outputs": [
        {
          "output_type": "execute_result",
          "data": {
            "text/plain": [
              "count    891.000000\n",
              "mean      32.204208\n",
              "std       49.693429\n",
              "min        0.000000\n",
              "25%        7.910400\n",
              "50%       14.454200\n",
              "75%       31.000000\n",
              "max      512.329200\n",
              "Name: Fare, dtype: float64"
            ]
          },
          "metadata": {
            "tags": []
          },
          "execution_count": 113
        }
      ]
    },
    {
      "cell_type": "markdown",
      "metadata": {
        "id": "IgQN2EDA2dDW"
      },
      "source": [
        "As we are going to modify this column lets quickly perform an analysis of Fare distribution against survival to see how the survial rate trends over Fare."
      ]
    },
    {
      "cell_type": "code",
      "metadata": {
        "id": "gEqwe2JO2dDY",
        "outputId": "872d61d7-a6a8-43bc-ef33-3eac4cf81f60",
        "colab": {
          "base_uri": "https://localhost:8080/",
          "height": 220
        }
      },
      "source": [
        "facet = sns.FacetGrid(df_train, hue=\"Survived\",aspect=4)\n",
        "facet.map(sns.kdeplot,'Fare',shade= True)\n",
        "facet.set(xlim=(0, df_train['Fare'].max()))\n",
        "facet.add_legend()\n",
        " \n",
        "plt.show()"
      ],
      "execution_count": 114,
      "outputs": [
        {
          "output_type": "display_data",
          "data": {
            "image/png": "[encoded data removed]",
            "text/plain": [
              "<Figure size 915.875x216 with 1 Axes>"
            ]
          },
          "metadata": {
            "tags": [],
            "needs_background": "light"
          }
        }
      ]
    },
    {
      "cell_type": "markdown",
      "metadata": {
        "id": "i17Ml06n3NYF"
      },
      "source": [
        "We can clearly see here that we majority a lot of people who paid less than 100 for the ticket. So we need to zoom in further into the range of 0 to 100 to get a clearer picture before categorization"
      ]
    },
    {
      "cell_type": "code",
      "metadata": {
        "id": "aDVpG9MI3MRV",
        "outputId": "e9dda60a-ec92-4dad-ccca-3509e9eee26c",
        "colab": {
          "base_uri": "https://localhost:8080/",
          "height": 220
        }
      },
      "source": [
        "facet = sns.FacetGrid(df_train, hue=\"Survived\",aspect=4)\n",
        "facet.map(sns.kdeplot,'Fare',shade= True)\n",
        "facet.set(xlim=(0, df_train['Fare'].max()))\n",
        "facet.add_legend()\n",
        " \n",
        "plt.xlim(0, 100)\n",
        "plt.show()"
      ],
      "execution_count": 115,
      "outputs": [
        {
          "output_type": "display_data",
          "data": {
            "image/png": "[encoded data removed]",
            "text/plain": [
              "<Figure size 915.875x216 with 1 Axes>"
            ]
          },
          "metadata": {
            "tags": [],
            "needs_background": "light"
          }
        }
      ]
    },
    {
      "cell_type": "code",
      "metadata": {
        "id": "FGpBGFHY34mA",
        "outputId": "b2a73893-40cf-4162-a447-d19c8bb4f52c",
        "colab": {
          "base_uri": "https://localhost:8080/",
          "height": 220
        }
      },
      "source": [
        "facet = sns.FacetGrid(df_train, hue=\"Survived\",aspect=4)\n",
        "facet.map(sns.kdeplot,'Fare',shade= True)\n",
        "facet.set(xlim=(0, df_train['Fare'].max()))\n",
        "facet.add_legend()\n",
        " \n",
        "plt.xlim(0, 50)\n",
        "plt.show()"
      ],
      "execution_count": 116,
      "outputs": [
        {
          "output_type": "display_data",
          "data": {
            "image/png": "[encoded data removed]",
            "text/plain": [
              "<Figure size 915.875x216 with 1 Axes>"
            ]
          },
          "metadata": {
            "tags": [],
            "needs_background": "light"
          }
        }
      ]
    },
    {
      "cell_type": "code",
      "metadata": {
        "id": "Hp-FZBvT2dDl"
      },
      "source": [
        "df_train.loc[ df_train['Fare'] <= 25, 'Fare'] = 0\n",
        "df_train.loc[(df_train['Fare'] > 25) & (df_train['Fare'] <= 50), 'Fare'] = 1\n",
        "df_train.loc[(df_train['Fare'] > 50) & (df_train['Fare'] <= 100), 'Fare'] = 2\n",
        "df_train.loc[(df_train['Fare'] > 100), 'Fare'] = 3"
      ],
      "execution_count": 117,
      "outputs": []
    },
    {
      "cell_type": "code",
      "metadata": {
        "id": "z5YHFYmP2dDw",
        "outputId": "5e9db64e-8527-45d7-df27-72f9664c2be7",
        "colab": {
          "base_uri": "https://localhost:8080/",
          "height": 255
        }
      },
      "source": [
        "df_train.head()"
      ],
      "execution_count": 118,
      "outputs": [
        {
          "output_type": "execute_result",
          "data": {
            "text/html": [
              "<div>\n",
              "<style scoped>\n",
              "    .dataframe tbody tr th:only-of-type {\n",
              "        vertical-align: middle;\n",
              "    }\n",
              "\n",
              "    .dataframe tbody tr th {\n",
              "        vertical-align: top;\n",
              "    }\n",
              "\n",
              "    .dataframe thead th {\n",
              "        text-align: right;\n",
              "    }\n",
              "</style>\n",
              "<table border=\"1\" class=\"dataframe\">\n",
              "  <thead>\n",
              "    <tr style=\"text-align: right;\">\n",
              "      <th></th>\n",
              "      <th>PassengerId</th>\n",
              "      <th>Survived</th>\n",
              "      <th>Pclass</th>\n",
              "      <th>Name</th>\n",
              "      <th>Sex</th>\n",
              "      <th>Age</th>\n",
              "      <th>SibSp</th>\n",
              "      <th>Parch</th>\n",
              "      <th>Ticket</th>\n",
              "      <th>Fare</th>\n",
              "      <th>Embarked</th>\n",
              "      <th>Title</th>\n",
              "    </tr>\n",
              "  </thead>\n",
              "  <tbody>\n",
              "    <tr>\n",
              "      <th>0</th>\n",
              "      <td>1</td>\n",
              "      <td>0</td>\n",
              "      <td>3</td>\n",
              "      <td>Braund, Mr. Owen Harris</td>\n",
              "      <td>0</td>\n",
              "      <td>1</td>\n",
              "      <td>1</td>\n",
              "      <td>0</td>\n",
              "      <td>A/5 21171</td>\n",
              "      <td>0.0</td>\n",
              "      <td>2</td>\n",
              "      <td>0</td>\n",
              "    </tr>\n",
              "    <tr>\n",
              "      <th>1</th>\n",
              "      <td>2</td>\n",
              "      <td>1</td>\n",
              "      <td>1</td>\n",
              "      <td>Cumings, Mrs. John Bradley (Florence Briggs Th...</td>\n",
              "      <td>1</td>\n",
              "      <td>1</td>\n",
              "      <td>1</td>\n",
              "      <td>0</td>\n",
              "      <td>PC 17599</td>\n",
              "      <td>2.0</td>\n",
              "      <td>0</td>\n",
              "      <td>2</td>\n",
              "    </tr>\n",
              "    <tr>\n",
              "      <th>2</th>\n",
              "      <td>3</td>\n",
              "      <td>1</td>\n",
              "      <td>3</td>\n",
              "      <td>Heikkinen, Miss. Laina</td>\n",
              "      <td>1</td>\n",
              "      <td>1</td>\n",
              "      <td>0</td>\n",
              "      <td>0</td>\n",
              "      <td>STON/O2. 3101282</td>\n",
              "      <td>0.0</td>\n",
              "      <td>2</td>\n",
              "      <td>1</td>\n",
              "    </tr>\n",
              "    <tr>\n",
              "      <th>3</th>\n",
              "      <td>4</td>\n",
              "      <td>1</td>\n",
              "      <td>1</td>\n",
              "      <td>Futrelle, Mrs. Jacques Heath (Lily May Peel)</td>\n",
              "      <td>1</td>\n",
              "      <td>1</td>\n",
              "      <td>1</td>\n",
              "      <td>0</td>\n",
              "      <td>113803</td>\n",
              "      <td>2.0</td>\n",
              "      <td>2</td>\n",
              "      <td>2</td>\n",
              "    </tr>\n",
              "    <tr>\n",
              "      <th>4</th>\n",
              "      <td>5</td>\n",
              "      <td>0</td>\n",
              "      <td>3</td>\n",
              "      <td>Allen, Mr. William Henry</td>\n",
              "      <td>0</td>\n",
              "      <td>1</td>\n",
              "      <td>0</td>\n",
              "      <td>0</td>\n",
              "      <td>373450</td>\n",
              "      <td>0.0</td>\n",
              "      <td>2</td>\n",
              "      <td>0</td>\n",
              "    </tr>\n",
              "  </tbody>\n",
              "</table>\n",
              "</div>"
            ],
            "text/plain": [
              "   PassengerId  Survived  Pclass  ... Fare  Embarked  Title\n",
              "0            1         0       3  ...  0.0         2      0\n",
              "1            2         1       1  ...  2.0         0      2\n",
              "2            3         1       3  ...  0.0         2      1\n",
              "3            4         1       1  ...  2.0         2      2\n",
              "4            5         0       3  ...  0.0         2      0\n",
              "\n",
              "[5 rows x 12 columns]"
            ]
          },
          "metadata": {
            "tags": []
          },
          "execution_count": 118
        }
      ]
    },
    {
      "cell_type": "code",
      "metadata": {
        "id": "6arNJl_62dD_"
      },
      "source": [
        "df_test.loc[ df_test['Fare'] <= 25, 'Fare'] = 0\n",
        "df_test.loc[(df_test['Fare'] > 25) & (df_test['Fare'] <= 50), 'Fare'] = 1\n",
        "df_test.loc[(df_test['Fare'] > 50) & (df_test['Fare'] <= 100), 'Fare'] = 2\n",
        "df_test.loc[(df_test['Fare'] > 100), 'Fare'] = 3"
      ],
      "execution_count": 119,
      "outputs": []
    },
    {
      "cell_type": "code",
      "metadata": {
        "id": "tWpYoLjV2dEJ",
        "outputId": "bb5272b1-2d0d-451b-9f29-d253bc339360",
        "colab": {
          "base_uri": "https://localhost:8080/",
          "height": 221
        }
      },
      "source": [
        "df_test.head()"
      ],
      "execution_count": 120,
      "outputs": [
        {
          "output_type": "execute_result",
          "data": {
            "text/html": [
              "<div>\n",
              "<style scoped>\n",
              "    .dataframe tbody tr th:only-of-type {\n",
              "        vertical-align: middle;\n",
              "    }\n",
              "\n",
              "    .dataframe tbody tr th {\n",
              "        vertical-align: top;\n",
              "    }\n",
              "\n",
              "    .dataframe thead th {\n",
              "        text-align: right;\n",
              "    }\n",
              "</style>\n",
              "<table border=\"1\" class=\"dataframe\">\n",
              "  <thead>\n",
              "    <tr style=\"text-align: right;\">\n",
              "      <th></th>\n",
              "      <th>PassengerId</th>\n",
              "      <th>Pclass</th>\n",
              "      <th>Name</th>\n",
              "      <th>Sex</th>\n",
              "      <th>Age</th>\n",
              "      <th>SibSp</th>\n",
              "      <th>Parch</th>\n",
              "      <th>Ticket</th>\n",
              "      <th>Fare</th>\n",
              "      <th>Embarked</th>\n",
              "      <th>Title</th>\n",
              "    </tr>\n",
              "  </thead>\n",
              "  <tbody>\n",
              "    <tr>\n",
              "      <th>0</th>\n",
              "      <td>892</td>\n",
              "      <td>3</td>\n",
              "      <td>Kelly, Mr. James</td>\n",
              "      <td>0</td>\n",
              "      <td>1</td>\n",
              "      <td>0</td>\n",
              "      <td>0</td>\n",
              "      <td>330911</td>\n",
              "      <td>0.0</td>\n",
              "      <td>1</td>\n",
              "      <td>0</td>\n",
              "    </tr>\n",
              "    <tr>\n",
              "      <th>1</th>\n",
              "      <td>893</td>\n",
              "      <td>3</td>\n",
              "      <td>Wilkes, Mrs. James (Ellen Needs)</td>\n",
              "      <td>1</td>\n",
              "      <td>2</td>\n",
              "      <td>1</td>\n",
              "      <td>0</td>\n",
              "      <td>363272</td>\n",
              "      <td>0.0</td>\n",
              "      <td>2</td>\n",
              "      <td>2</td>\n",
              "    </tr>\n",
              "    <tr>\n",
              "      <th>2</th>\n",
              "      <td>894</td>\n",
              "      <td>2</td>\n",
              "      <td>Myles, Mr. Thomas Francis</td>\n",
              "      <td>0</td>\n",
              "      <td>3</td>\n",
              "      <td>0</td>\n",
              "      <td>0</td>\n",
              "      <td>240276</td>\n",
              "      <td>0.0</td>\n",
              "      <td>1</td>\n",
              "      <td>0</td>\n",
              "    </tr>\n",
              "    <tr>\n",
              "      <th>3</th>\n",
              "      <td>895</td>\n",
              "      <td>3</td>\n",
              "      <td>Wirz, Mr. Albert</td>\n",
              "      <td>0</td>\n",
              "      <td>1</td>\n",
              "      <td>0</td>\n",
              "      <td>0</td>\n",
              "      <td>315154</td>\n",
              "      <td>0.0</td>\n",
              "      <td>2</td>\n",
              "      <td>0</td>\n",
              "    </tr>\n",
              "    <tr>\n",
              "      <th>4</th>\n",
              "      <td>896</td>\n",
              "      <td>3</td>\n",
              "      <td>Hirvonen, Mrs. Alexander (Helga E Lindqvist)</td>\n",
              "      <td>1</td>\n",
              "      <td>1</td>\n",
              "      <td>1</td>\n",
              "      <td>1</td>\n",
              "      <td>3101298</td>\n",
              "      <td>0.0</td>\n",
              "      <td>2</td>\n",
              "      <td>2</td>\n",
              "    </tr>\n",
              "  </tbody>\n",
              "</table>\n",
              "</div>"
            ],
            "text/plain": [
              "   PassengerId  Pclass  ... Embarked  Title\n",
              "0          892       3  ...        1      0\n",
              "1          893       3  ...        2      2\n",
              "2          894       2  ...        1      0\n",
              "3          895       3  ...        2      0\n",
              "4          896       3  ...        2      2\n",
              "\n",
              "[5 rows x 11 columns]"
            ]
          },
          "metadata": {
            "tags": []
          },
          "execution_count": 120
        }
      ]
    },
    {
      "cell_type": "markdown",
      "metadata": {
        "id": "PwHfUaQuBWYf"
      },
      "source": [
        "#### Handling SibSp and Parch"
      ]
    },
    {
      "cell_type": "code",
      "metadata": {
        "id": "3-53YRrLBV_e"
      },
      "source": [
        "df_train[\"FamilyCount\"] = df_train[\"SibSp\"] + df_train[\"Parch\"] + 1\n",
        "df_test[\"FamilyCount\"] = df_test[\"SibSp\"] + df_test[\"Parch\"] + 1"
      ],
      "execution_count": 121,
      "outputs": []
    },
    {
      "cell_type": "code",
      "metadata": {
        "id": "Qj1fw6W9B59j",
        "outputId": "e38f2f63-9140-45c0-87dc-e676668b72fd",
        "colab": {
          "base_uri": "https://localhost:8080/",
          "height": 237
        }
      },
      "source": [
        "facet = sns.FacetGrid(df_train, hue=\"Survived\",aspect=4)\n",
        "facet.map(sns.kdeplot,'FamilyCount',shade= True)\n",
        "facet.set(xlim=(0, df_train['FamilyCount'].max()))\n",
        "facet.add_legend()\n",
        "plt.xlim(0)"
      ],
      "execution_count": 122,
      "outputs": [
        {
          "output_type": "execute_result",
          "data": {
            "text/plain": [
              "(0.0, 11.0)"
            ]
          },
          "metadata": {
            "tags": []
          },
          "execution_count": 122
        },
        {
          "output_type": "display_data",
          "data": {
            "image/png": "[encoded data removed]",
            "text/plain": [
              "<Figure size 915.875x216 with 1 Axes>"
            ]
          },
          "metadata": {
            "tags": [],
            "needs_background": "light"
          }
        }
      ]
    },
    {
      "cell_type": "code",
      "metadata": {
        "id": "jYP5UDpqCJyr"
      },
      "source": [
        "familyMap = {1: 0, 2: 0.3, 3: 0.6, 4: 0.9, 5: 1.2, 6: 1.5, 7: 1.8, 8: 2.1, 9: 2.4, 10: 2.7, 11: 3}\n",
        "\n",
        "df_train['FamilyCount'] = df_train['FamilyCount'].map(familyMap)\n",
        "df_test['FamilyCount'] = df_test['FamilyCount'].map(familyMap)"
      ],
      "execution_count": 123,
      "outputs": []
    },
    {
      "cell_type": "code",
      "metadata": {
        "id": "g5b3vE8KE1OR",
        "outputId": "861b96fa-b31b-4cfb-9d0e-2dbb004deb9b",
        "colab": {
          "base_uri": "https://localhost:8080/",
          "height": 391
        }
      },
      "source": [
        "df_train.head()"
      ],
      "execution_count": 124,
      "outputs": [
        {
          "output_type": "execute_result",
          "data": {
            "text/html": [
              "<div>\n",
              "<style scoped>\n",
              "    .dataframe tbody tr th:only-of-type {\n",
              "        vertical-align: middle;\n",
              "    }\n",
              "\n",
              "    .dataframe tbody tr th {\n",
              "        vertical-align: top;\n",
              "    }\n",
              "\n",
              "    .dataframe thead th {\n",
              "        text-align: right;\n",
              "    }\n",
              "</style>\n",
              "<table border=\"1\" class=\"dataframe\">\n",
              "  <thead>\n",
              "    <tr style=\"text-align: right;\">\n",
              "      <th></th>\n",
              "      <th>PassengerId</th>\n",
              "      <th>Survived</th>\n",
              "      <th>Pclass</th>\n",
              "      <th>Name</th>\n",
              "      <th>Sex</th>\n",
              "      <th>Age</th>\n",
              "      <th>SibSp</th>\n",
              "      <th>Parch</th>\n",
              "      <th>Ticket</th>\n",
              "      <th>Fare</th>\n",
              "      <th>Embarked</th>\n",
              "      <th>Title</th>\n",
              "      <th>FamilyCount</th>\n",
              "    </tr>\n",
              "  </thead>\n",
              "  <tbody>\n",
              "    <tr>\n",
              "      <th>0</th>\n",
              "      <td>1</td>\n",
              "      <td>0</td>\n",
              "      <td>3</td>\n",
              "      <td>Braund, Mr. Owen Harris</td>\n",
              "      <td>0</td>\n",
              "      <td>1</td>\n",
              "      <td>1</td>\n",
              "      <td>0</td>\n",
              "      <td>A/5 21171</td>\n",
              "      <td>0.0</td>\n",
              "      <td>2</td>\n",
              "      <td>0</td>\n",
              "      <td>0.3</td>\n",
              "    </tr>\n",
              "    <tr>\n",
              "      <th>1</th>\n",
              "      <td>2</td>\n",
              "      <td>1</td>\n",
              "      <td>1</td>\n",
              "      <td>Cumings, Mrs. John Bradley (Florence Briggs Th...</td>\n",
              "      <td>1</td>\n",
              "      <td>1</td>\n",
              "      <td>1</td>\n",
              "      <td>0</td>\n",
              "      <td>PC 17599</td>\n",
              "      <td>2.0</td>\n",
              "      <td>0</td>\n",
              "      <td>2</td>\n",
              "      <td>0.3</td>\n",
              "    </tr>\n",
              "    <tr>\n",
              "      <th>2</th>\n",
              "      <td>3</td>\n",
              "      <td>1</td>\n",
              "      <td>3</td>\n",
              "      <td>Heikkinen, Miss. Laina</td>\n",
              "      <td>1</td>\n",
              "      <td>1</td>\n",
              "      <td>0</td>\n",
              "      <td>0</td>\n",
              "      <td>STON/O2. 3101282</td>\n",
              "      <td>0.0</td>\n",
              "      <td>2</td>\n",
              "      <td>1</td>\n",
              "      <td>0.0</td>\n",
              "    </tr>\n",
              "    <tr>\n",
              "      <th>3</th>\n",
              "      <td>4</td>\n",
              "      <td>1</td>\n",
              "      <td>1</td>\n",
              "      <td>Futrelle, Mrs. Jacques Heath (Lily May Peel)</td>\n",
              "      <td>1</td>\n",
              "      <td>1</td>\n",
              "      <td>1</td>\n",
              "      <td>0</td>\n",
              "      <td>113803</td>\n",
              "      <td>2.0</td>\n",
              "      <td>2</td>\n",
              "      <td>2</td>\n",
              "      <td>0.3</td>\n",
              "    </tr>\n",
              "    <tr>\n",
              "      <th>4</th>\n",
              "      <td>5</td>\n",
              "      <td>0</td>\n",
              "      <td>3</td>\n",
              "      <td>Allen, Mr. William Henry</td>\n",
              "      <td>0</td>\n",
              "      <td>1</td>\n",
              "      <td>0</td>\n",
              "      <td>0</td>\n",
              "      <td>373450</td>\n",
              "      <td>0.0</td>\n",
              "      <td>2</td>\n",
              "      <td>0</td>\n",
              "      <td>0.0</td>\n",
              "    </tr>\n",
              "  </tbody>\n",
              "</table>\n",
              "</div>"
            ],
            "text/plain": [
              "   PassengerId  Survived  Pclass  ... Embarked  Title  FamilyCount\n",
              "0            1         0       3  ...        2      0          0.3\n",
              "1            2         1       1  ...        0      2          0.3\n",
              "2            3         1       3  ...        2      1          0.0\n",
              "3            4         1       1  ...        2      2          0.3\n",
              "4            5         0       3  ...        2      0          0.0\n",
              "\n",
              "[5 rows x 13 columns]"
            ]
          },
          "metadata": {
            "tags": []
          },
          "execution_count": 124
        }
      ]
    },
    {
      "cell_type": "code",
      "metadata": {
        "id": "CYGNc3EQE-BT",
        "outputId": "0c85aaf7-da4c-44ba-d65b-8bf26d09fe66",
        "colab": {
          "base_uri": "https://localhost:8080/",
          "height": 238
        }
      },
      "source": [
        "df_test.head()"
      ],
      "execution_count": 125,
      "outputs": [
        {
          "output_type": "execute_result",
          "data": {
            "text/html": [
              "<div>\n",
              "<style scoped>\n",
              "    .dataframe tbody tr th:only-of-type {\n",
              "        vertical-align: middle;\n",
              "    }\n",
              "\n",
              "    .dataframe tbody tr th {\n",
              "        vertical-align: top;\n",
              "    }\n",
              "\n",
              "    .dataframe thead th {\n",
              "        text-align: right;\n",
              "    }\n",
              "</style>\n",
              "<table border=\"1\" class=\"dataframe\">\n",
              "  <thead>\n",
              "    <tr style=\"text-align: right;\">\n",
              "      <th></th>\n",
              "      <th>PassengerId</th>\n",
              "      <th>Pclass</th>\n",
              "      <th>Name</th>\n",
              "      <th>Sex</th>\n",
              "      <th>Age</th>\n",
              "      <th>SibSp</th>\n",
              "      <th>Parch</th>\n",
              "      <th>Ticket</th>\n",
              "      <th>Fare</th>\n",
              "      <th>Embarked</th>\n",
              "      <th>Title</th>\n",
              "      <th>FamilyCount</th>\n",
              "    </tr>\n",
              "  </thead>\n",
              "  <tbody>\n",
              "    <tr>\n",
              "      <th>0</th>\n",
              "      <td>892</td>\n",
              "      <td>3</td>\n",
              "      <td>Kelly, Mr. James</td>\n",
              "      <td>0</td>\n",
              "      <td>1</td>\n",
              "      <td>0</td>\n",
              "      <td>0</td>\n",
              "      <td>330911</td>\n",
              "      <td>0.0</td>\n",
              "      <td>1</td>\n",
              "      <td>0</td>\n",
              "      <td>0.0</td>\n",
              "    </tr>\n",
              "    <tr>\n",
              "      <th>1</th>\n",
              "      <td>893</td>\n",
              "      <td>3</td>\n",
              "      <td>Wilkes, Mrs. James (Ellen Needs)</td>\n",
              "      <td>1</td>\n",
              "      <td>2</td>\n",
              "      <td>1</td>\n",
              "      <td>0</td>\n",
              "      <td>363272</td>\n",
              "      <td>0.0</td>\n",
              "      <td>2</td>\n",
              "      <td>2</td>\n",
              "      <td>0.3</td>\n",
              "    </tr>\n",
              "    <tr>\n",
              "      <th>2</th>\n",
              "      <td>894</td>\n",
              "      <td>2</td>\n",
              "      <td>Myles, Mr. Thomas Francis</td>\n",
              "      <td>0</td>\n",
              "      <td>3</td>\n",
              "      <td>0</td>\n",
              "      <td>0</td>\n",
              "      <td>240276</td>\n",
              "      <td>0.0</td>\n",
              "      <td>1</td>\n",
              "      <td>0</td>\n",
              "      <td>0.0</td>\n",
              "    </tr>\n",
              "    <tr>\n",
              "      <th>3</th>\n",
              "      <td>895</td>\n",
              "      <td>3</td>\n",
              "      <td>Wirz, Mr. Albert</td>\n",
              "      <td>0</td>\n",
              "      <td>1</td>\n",
              "      <td>0</td>\n",
              "      <td>0</td>\n",
              "      <td>315154</td>\n",
              "      <td>0.0</td>\n",
              "      <td>2</td>\n",
              "      <td>0</td>\n",
              "      <td>0.0</td>\n",
              "    </tr>\n",
              "    <tr>\n",
              "      <th>4</th>\n",
              "      <td>896</td>\n",
              "      <td>3</td>\n",
              "      <td>Hirvonen, Mrs. Alexander (Helga E Lindqvist)</td>\n",
              "      <td>1</td>\n",
              "      <td>1</td>\n",
              "      <td>1</td>\n",
              "      <td>1</td>\n",
              "      <td>3101298</td>\n",
              "      <td>0.0</td>\n",
              "      <td>2</td>\n",
              "      <td>2</td>\n",
              "      <td>0.6</td>\n",
              "    </tr>\n",
              "  </tbody>\n",
              "</table>\n",
              "</div>"
            ],
            "text/plain": [
              "   PassengerId  Pclass  ... Title  FamilyCount\n",
              "0          892       3  ...     0          0.0\n",
              "1          893       3  ...     2          0.3\n",
              "2          894       2  ...     0          0.0\n",
              "3          895       3  ...     0          0.0\n",
              "4          896       3  ...     2          0.6\n",
              "\n",
              "[5 rows x 12 columns]"
            ]
          },
          "metadata": {
            "tags": []
          },
          "execution_count": 125
        }
      ]
    },
    {
      "cell_type": "markdown",
      "metadata": {
        "id": "IoZAlyCkHNQN"
      },
      "source": [
        "#### Dropping Unwanted Columns"
      ]
    },
    {
      "cell_type": "code",
      "metadata": {
        "id": "vSjSu_RHHRk7"
      },
      "source": [
        "df_train.drop(['PassengerId', 'Name', 'Ticket', 'SibSp', 'Parch'], axis=1, inplace=True)\n",
        "df_test.drop(['PassengerId', 'Name', 'Ticket', 'SibSp', 'Parch'], axis=1, inplace=True)"
      ],
      "execution_count": 127,
      "outputs": []
    },
    {
      "cell_type": "code",
      "metadata": {
        "id": "aiA1h9SBH6JU",
        "outputId": "737c0c9e-60c9-48dd-aedc-ad9235defd05",
        "colab": {
          "base_uri": "https://localhost:8080/",
          "height": 204
        }
      },
      "source": [
        "df_train.head()"
      ],
      "execution_count": 128,
      "outputs": [
        {
          "output_type": "execute_result",
          "data": {
            "text/html": [
              "<div>\n",
              "<style scoped>\n",
              "    .dataframe tbody tr th:only-of-type {\n",
              "        vertical-align: middle;\n",
              "    }\n",
              "\n",
              "    .dataframe tbody tr th {\n",
              "        vertical-align: top;\n",
              "    }\n",
              "\n",
              "    .dataframe thead th {\n",
              "        text-align: right;\n",
              "    }\n",
              "</style>\n",
              "<table border=\"1\" class=\"dataframe\">\n",
              "  <thead>\n",
              "    <tr style=\"text-align: right;\">\n",
              "      <th></th>\n",
              "      <th>Survived</th>\n",
              "      <th>Pclass</th>\n",
              "      <th>Sex</th>\n",
              "      <th>Age</th>\n",
              "      <th>Fare</th>\n",
              "      <th>Embarked</th>\n",
              "      <th>Title</th>\n",
              "      <th>FamilyCount</th>\n",
              "    </tr>\n",
              "  </thead>\n",
              "  <tbody>\n",
              "    <tr>\n",
              "      <th>0</th>\n",
              "      <td>0</td>\n",
              "      <td>3</td>\n",
              "      <td>0</td>\n",
              "      <td>1</td>\n",
              "      <td>0.0</td>\n",
              "      <td>2</td>\n",
              "      <td>0</td>\n",
              "      <td>0.3</td>\n",
              "    </tr>\n",
              "    <tr>\n",
              "      <th>1</th>\n",
              "      <td>1</td>\n",
              "      <td>1</td>\n",
              "      <td>1</td>\n",
              "      <td>1</td>\n",
              "      <td>2.0</td>\n",
              "      <td>0</td>\n",
              "      <td>2</td>\n",
              "      <td>0.3</td>\n",
              "    </tr>\n",
              "    <tr>\n",
              "      <th>2</th>\n",
              "      <td>1</td>\n",
              "      <td>3</td>\n",
              "      <td>1</td>\n",
              "      <td>1</td>\n",
              "      <td>0.0</td>\n",
              "      <td>2</td>\n",
              "      <td>1</td>\n",
              "      <td>0.0</td>\n",
              "    </tr>\n",
              "    <tr>\n",
              "      <th>3</th>\n",
              "      <td>1</td>\n",
              "      <td>1</td>\n",
              "      <td>1</td>\n",
              "      <td>1</td>\n",
              "      <td>2.0</td>\n",
              "      <td>2</td>\n",
              "      <td>2</td>\n",
              "      <td>0.3</td>\n",
              "    </tr>\n",
              "    <tr>\n",
              "      <th>4</th>\n",
              "      <td>0</td>\n",
              "      <td>3</td>\n",
              "      <td>0</td>\n",
              "      <td>1</td>\n",
              "      <td>0.0</td>\n",
              "      <td>2</td>\n",
              "      <td>0</td>\n",
              "      <td>0.0</td>\n",
              "    </tr>\n",
              "  </tbody>\n",
              "</table>\n",
              "</div>"
            ],
            "text/plain": [
              "   Survived  Pclass  Sex  Age  Fare  Embarked  Title  FamilyCount\n",
              "0         0       3    0    1   0.0         2      0          0.3\n",
              "1         1       1    1    1   2.0         0      2          0.3\n",
              "2         1       3    1    1   0.0         2      1          0.0\n",
              "3         1       1    1    1   2.0         2      2          0.3\n",
              "4         0       3    0    1   0.0         2      0          0.0"
            ]
          },
          "metadata": {
            "tags": []
          },
          "execution_count": 128
        }
      ]
    },
    {
      "cell_type": "code",
      "metadata": {
        "id": "P5cU1z8gH2NF",
        "outputId": "1ca164d1-4ba7-4e0d-f545-2d2f6aa32a5c",
        "colab": {
          "base_uri": "https://localhost:8080/",
          "height": 204
        }
      },
      "source": [
        "df_test.head()"
      ],
      "execution_count": 202,
      "outputs": [
        {
          "output_type": "execute_result",
          "data": {
            "text/html": [
              "<div>\n",
              "<style scoped>\n",
              "    .dataframe tbody tr th:only-of-type {\n",
              "        vertical-align: middle;\n",
              "    }\n",
              "\n",
              "    .dataframe tbody tr th {\n",
              "        vertical-align: top;\n",
              "    }\n",
              "\n",
              "    .dataframe thead th {\n",
              "        text-align: right;\n",
              "    }\n",
              "</style>\n",
              "<table border=\"1\" class=\"dataframe\">\n",
              "  <thead>\n",
              "    <tr style=\"text-align: right;\">\n",
              "      <th></th>\n",
              "      <th>Pclass</th>\n",
              "      <th>Sex</th>\n",
              "      <th>Age</th>\n",
              "      <th>Fare</th>\n",
              "      <th>Embarked</th>\n",
              "      <th>Title</th>\n",
              "      <th>FamilyCount</th>\n",
              "    </tr>\n",
              "  </thead>\n",
              "  <tbody>\n",
              "    <tr>\n",
              "      <th>0</th>\n",
              "      <td>3</td>\n",
              "      <td>0</td>\n",
              "      <td>1</td>\n",
              "      <td>0.0</td>\n",
              "      <td>1</td>\n",
              "      <td>0</td>\n",
              "      <td>0.0</td>\n",
              "    </tr>\n",
              "    <tr>\n",
              "      <th>1</th>\n",
              "      <td>3</td>\n",
              "      <td>1</td>\n",
              "      <td>2</td>\n",
              "      <td>0.0</td>\n",
              "      <td>2</td>\n",
              "      <td>2</td>\n",
              "      <td>0.3</td>\n",
              "    </tr>\n",
              "    <tr>\n",
              "      <th>2</th>\n",
              "      <td>2</td>\n",
              "      <td>0</td>\n",
              "      <td>3</td>\n",
              "      <td>0.0</td>\n",
              "      <td>1</td>\n",
              "      <td>0</td>\n",
              "      <td>0.0</td>\n",
              "    </tr>\n",
              "    <tr>\n",
              "      <th>3</th>\n",
              "      <td>3</td>\n",
              "      <td>0</td>\n",
              "      <td>1</td>\n",
              "      <td>0.0</td>\n",
              "      <td>2</td>\n",
              "      <td>0</td>\n",
              "      <td>0.0</td>\n",
              "    </tr>\n",
              "    <tr>\n",
              "      <th>4</th>\n",
              "      <td>3</td>\n",
              "      <td>1</td>\n",
              "      <td>1</td>\n",
              "      <td>0.0</td>\n",
              "      <td>2</td>\n",
              "      <td>2</td>\n",
              "      <td>0.6</td>\n",
              "    </tr>\n",
              "  </tbody>\n",
              "</table>\n",
              "</div>"
            ],
            "text/plain": [
              "   Pclass  Sex  Age  Fare  Embarked  Title  FamilyCount\n",
              "0       3    0    1   0.0         1      0          0.0\n",
              "1       3    1    2   0.0         2      2          0.3\n",
              "2       2    0    3   0.0         1      0          0.0\n",
              "3       3    0    1   0.0         2      0          0.0\n",
              "4       3    1    1   0.0         2      2          0.6"
            ]
          },
          "metadata": {
            "tags": []
          },
          "execution_count": 202
        }
      ]
    },
    {
      "cell_type": "code",
      "metadata": {
        "id": "xVK5lmbkIrhS"
      },
      "source": [
        "# Write this cleaned feature engineered data to a CSV file (Optional. Can be used as a data checkpoint)\n",
        "\n",
        "#df_train.to_csv(datasetPath+'Cleaned_Final_Train.csv', index=False)\n",
        "#df_test.to_csv(datasetPath+'Cleaned_Final_Test.csv', index=False)"
      ],
      "execution_count": 132,
      "outputs": []
    },
    {
      "cell_type": "markdown",
      "metadata": {
        "id": "8GxF5RdI2xx6"
      },
      "source": [
        "#### Feature Selection Using Pearson Correlation"
      ]
    },
    {
      "cell_type": "code",
      "metadata": {
        "id": "aFLMwZon2xyG",
        "outputId": "c67d6457-e5e8-4b01-8813-7877ed7d8cfb",
        "colab": {
          "base_uri": "https://localhost:8080/",
          "height": 500
        }
      },
      "source": [
        "# Compute Pearson Correlation\n",
        "cor = df_train.corr()\n",
        "\n",
        "#Correlation with output variable\n",
        "cor_target = abs(cor['Survived'])\n",
        "\n",
        "# Plot Correlation Heatmap\n",
        "plt.figure(figsize=(10,8))\n",
        "#sns.heatmap(cor, annot=True, cmap=plt.cm.Reds)\n",
        "sns.heatmap(cor, annot=True, cmap=\"coolwarm\")\n",
        "\n",
        "plt.show()"
      ],
      "execution_count": 133,
      "outputs": [
        {
          "output_type": "display_data",
          "data": {
            "image/png": "[encoded data removed]",
            "text/plain": [
              "<Figure size 720x576 with 2 Axes>"
            ]
          },
          "metadata": {
            "tags": [],
            "needs_background": "light"
          }
        }
      ]
    },
    {
      "cell_type": "markdown",
      "metadata": {
        "id": "i6Nwehjd2xyi"
      },
      "source": [
        "### Data Modeling"
      ]
    },
    {
      "cell_type": "markdown",
      "metadata": {
        "id": "CWSiqpKh2xyZ"
      },
      "source": [
        "#### Create Testing and Training Data"
      ]
    },
    {
      "cell_type": "code",
      "metadata": {
        "id": "V5z8n7Qy2xyb"
      },
      "source": [
        "# Seperate Label Column From Feature Column\n",
        "df_train_label = df_train['Survived'].values\n",
        "df_train.drop(['Survived'], axis=1, inplace=True)\n",
        "df_train_feature = df_train.values"
      ],
      "execution_count": 135,
      "outputs": []
    },
    {
      "cell_type": "markdown",
      "metadata": {
        "id": "n5lNjjKqemMv"
      },
      "source": [
        "#### Create K-Fold Cross Validation Object"
      ]
    },
    {
      "cell_type": "code",
      "metadata": {
        "id": "adbsejQ3el5f",
        "outputId": "0e85f1e7-1f42-4541-9412-06496456fe76",
        "colab": {
          "base_uri": "https://localhost:8080/"
        }
      },
      "source": [
        "from sklearn.model_selection import KFold\n",
        "from sklearn.model_selection import cross_val_score\n",
        "\n",
        "k_fold = KFold(n_splits=10, shuffle=False, random_state=0)"
      ],
      "execution_count": 163,
      "outputs": [
        {
          "output_type": "stream",
          "text": [
            "/usr/local/lib/python3.6/dist-packages/sklearn/model_selection/_split.py:296: FutureWarning: Setting a random_state has no effect since shuffle is False. This will raise an error in 0.24. You should leave random_state to its default (None), or set shuffle=True.\n",
            "  FutureWarning\n"
          ],
          "name": "stderr"
        }
      ]
    },
    {
      "cell_type": "markdown",
      "metadata": {
        "id": "E8OeXQBMMGFk"
      },
      "source": [
        "#### KNN (82.16%)"
      ]
    },
    {
      "cell_type": "markdown",
      "metadata": {
        "id": "9Rtay1xArWEk"
      },
      "source": [
        "##### Grid Search Hyperparameter Tuning"
      ]
    },
    {
      "cell_type": "code",
      "metadata": {
        "id": "yQN6Yp00rWEn",
        "outputId": "29c761d2-e904-4548-8a4d-d0ccfcf61ad7",
        "colab": {
          "base_uri": "https://localhost:8080/"
        }
      },
      "source": [
        "from sklearn.ensemble import RandomForestClassifier\n",
        "from sklearn.metrics import make_scorer, accuracy_score\n",
        "from sklearn.model_selection import GridSearchCV\n",
        "\n",
        "\n",
        "k_range = list(range(2,20))\n",
        "weight_options = [\"uniform\", \"distance\"]\n",
        "\n",
        "# define parameter ranges\n",
        "parameters = {'n_neighbors' : k_range, 'weights': weight_options}\n",
        "\n",
        "# Create base model object\n",
        "knnBase = KNeighborsClassifier()\n",
        "\n",
        "# Type of scoring used to compare parameter combinations\n",
        "#acc_scorer = make_scorer(accuracy_score)\n",
        "\n",
        "# Run the grid search\n",
        "grid_obj = GridSearchCV(knnBase, parameters, cv = 5, scoring = 'accuracy')\n",
        "grid_obj = grid_obj.fit(df_train_feature, df_train_label)\n",
        "\n",
        "# Set the clf to the best combination of parameters\n",
        "KNNModel = grid_obj.best_estimator_\n",
        "\n",
        "# Display the best parameters\n",
        "print (grid_obj.best_params_)\n",
        "\n",
        "# Fit the best algorithm to the data. \n",
        "#KNNModel.fit(df_train_feature, df_train_label)"
      ],
      "execution_count": 184,
      "outputs": [
        {
          "output_type": "stream",
          "text": [
            "{'n_neighbors': 16, 'weights': 'uniform'}\n"
          ],
          "name": "stdout"
        }
      ]
    },
    {
      "cell_type": "markdown",
      "metadata": {
        "id": "Gox57DUJrWE0"
      },
      "source": [
        "##### K-Fold Cross Validation"
      ]
    },
    {
      "cell_type": "code",
      "metadata": {
        "id": "cp9O6axRrWE1",
        "outputId": "afbe15ce-133f-4621-a5cd-2d2592900c71",
        "colab": {
          "base_uri": "https://localhost:8080/"
        }
      },
      "source": [
        "scoring = 'accuracy'\n",
        "score = cross_val_score(KNNModel, df_train_feature, df_train_label, cv=k_fold, n_jobs=1, scoring=scoring)\n",
        "print(\"Scores:\")\n",
        "print(score)\n",
        "print(f\"\\nAverage Score: {round(np.mean(score)*100, 2)}\")"
      ],
      "execution_count": 185,
      "outputs": [
        {
          "output_type": "stream",
          "text": [
            "Scores:\n",
            "[0.8        0.85393258 0.76404494 0.82022472 0.84269663 0.83146067\n",
            " 0.80898876 0.79775281 0.85393258 0.84269663]\n",
            "\n",
            "Average Score: 82.16\n"
          ],
          "name": "stdout"
        }
      ]
    },
    {
      "cell_type": "markdown",
      "metadata": {
        "id": "2P5DUmWqM1ZP"
      },
      "source": [
        "#### Decision Tree (82.15%)"
      ]
    },
    {
      "cell_type": "markdown",
      "metadata": {
        "id": "GRohubxrvmC8"
      },
      "source": [
        "##### Grid Search Hyperparameter Tuning"
      ]
    },
    {
      "cell_type": "code",
      "metadata": {
        "id": "MTRrt9zWvmC_",
        "outputId": "eb901c6d-9dbc-4480-fdea-d391457bd053",
        "colab": {
          "base_uri": "https://localhost:8080/"
        }
      },
      "source": [
        "# define parameter ranges\n",
        "parameters = {'min_samples_split' : range(10,500,20),'max_depth': range(1,20,2), \n",
        "              'max_features':[\"auto\", \"sqrt\", \"log2\"]}\n",
        "\n",
        "# Create base model object\n",
        "dtBase = DecisionTreeClassifier()\n",
        "\n",
        "# Type of scoring used to compare parameter combinations\n",
        "#acc_scorer = make_scorer(accuracy_score)\n",
        "\n",
        "# Run the grid search\n",
        "grid_obj = GridSearchCV(dtBase, parameters, cv = 5, scoring = 'accuracy')\n",
        "grid_obj = grid_obj.fit(df_train_feature, df_train_label)\n",
        "\n",
        "# Set the clf to the best combination of parameters\n",
        "DTModel = grid_obj.best_estimator_\n",
        "\n",
        "# Display the best parameters\n",
        "print (grid_obj.best_params_)\n",
        "\n",
        "# Fit the best algorithm to the data. \n",
        "#KNNModel.fit(df_train_feature, df_train_label)"
      ],
      "execution_count": 186,
      "outputs": [
        {
          "output_type": "stream",
          "text": [
            "{'max_depth': 5, 'max_features': 'log2', 'min_samples_split': 30}\n"
          ],
          "name": "stdout"
        }
      ]
    },
    {
      "cell_type": "markdown",
      "metadata": {
        "id": "5Gzx5X6AvmDK"
      },
      "source": [
        "##### K-Fold Cross Validation"
      ]
    },
    {
      "cell_type": "code",
      "metadata": {
        "id": "b-jhnBW6vmDL",
        "outputId": "f6eadfe7-e684-43b5-cbd3-7c9dd6421577",
        "colab": {
          "base_uri": "https://localhost:8080/"
        }
      },
      "source": [
        "scoring = 'accuracy'\n",
        "score = cross_val_score(DTModel, df_train_feature, df_train_label, cv=k_fold, n_jobs=1, scoring=scoring)\n",
        "print(\"Scores:\")\n",
        "print(score)\n",
        "print(f\"\\nAverage Score: {round(np.mean(score)*100, 2)}\")"
      ],
      "execution_count": 187,
      "outputs": [
        {
          "output_type": "stream",
          "text": [
            "Scores:\n",
            "[0.82222222 0.83146067 0.78651685 0.84269663 0.83146067 0.79775281\n",
            " 0.80898876 0.79775281 0.87640449 0.82022472]\n",
            "\n",
            "Average Score: 82.15\n"
          ],
          "name": "stdout"
        }
      ]
    },
    {
      "cell_type": "markdown",
      "metadata": {
        "id": "cT1jm9G8M9MJ"
      },
      "source": [
        "#### SVM (82.72%)"
      ]
    },
    {
      "cell_type": "markdown",
      "metadata": {
        "id": "J-0pMZzhzsBe"
      },
      "source": [
        "##### Grid Search Hyperparameter Tuning"
      ]
    },
    {
      "cell_type": "code",
      "metadata": {
        "id": "oEmjqB7gzsBh",
        "outputId": "275e5e67-8025-4b6d-908d-04970dc51785",
        "colab": {
          "base_uri": "https://localhost:8080/"
        }
      },
      "source": [
        "# define parameter ranges\n",
        "parameters = {'kernel':('linear', 'rbf'), 'C':(1,0.25,0.5,0.75),\n",
        "              'gamma': (1,2,3,'auto'),'decision_function_shape':('ovo','ovr'),\n",
        "              'shrinking':(True,False)}\n",
        "\n",
        "# Create base model object\n",
        "svmBase = svm.SVC()\n",
        "\n",
        "# Type of scoring used to compare parameter combinations\n",
        "#acc_scorer = make_scorer(accuracy_score)\n",
        "\n",
        "# Run the grid search\n",
        "grid_obj = GridSearchCV(svmBase, parameters, cv = 5, scoring = 'accuracy')\n",
        "grid_obj = grid_obj.fit(df_train_feature, df_train_label)\n",
        "\n",
        "# Set the clf to the best combination of parameters\n",
        "SVMModel = grid_obj.best_estimator_\n",
        "\n",
        "# Display the best parameters\n",
        "print (grid_obj.best_params_)\n",
        "\n",
        "# Fit the best algorithm to the data. \n",
        "#KNNModel.fit(df_train_feature, df_train_label)"
      ],
      "execution_count": 197,
      "outputs": [
        {
          "output_type": "stream",
          "text": [
            "{'C': 0.5, 'decision_function_shape': 'ovo', 'gamma': 'auto', 'kernel': 'rbf', 'shrinking': True}\n"
          ],
          "name": "stdout"
        }
      ]
    },
    {
      "cell_type": "markdown",
      "metadata": {
        "id": "i_lRu-WhzsBn"
      },
      "source": [
        "##### K-Fold Cross Validation"
      ]
    },
    {
      "cell_type": "code",
      "metadata": {
        "id": "Qnxsk3L-zsBn",
        "outputId": "fb34a945-49fa-4854-ad12-434afcf4d3e6",
        "colab": {
          "base_uri": "https://localhost:8080/"
        }
      },
      "source": [
        "scoring = 'accuracy'\n",
        "score = cross_val_score(SVMModel, df_train_feature, df_train_label, cv=k_fold, n_jobs=1, scoring=scoring)\n",
        "print(\"Scores:\")\n",
        "print(score)\n",
        "print(f\"\\nAverage Score: {round(np.mean(score)*100, 2)}\")"
      ],
      "execution_count": 199,
      "outputs": [
        {
          "output_type": "stream",
          "text": [
            "Scores:\n",
            "[0.81111111 0.87640449 0.7752809  0.87640449 0.80898876 0.80898876\n",
            " 0.79775281 0.80898876 0.88764045 0.82022472]\n",
            "\n",
            "Average Score: 82.72\n"
          ],
          "name": "stdout"
        }
      ]
    },
    {
      "cell_type": "markdown",
      "metadata": {
        "id": "aLJ9PhOmNECz"
      },
      "source": [
        "#### Random Forest (82.38%)"
      ]
    },
    {
      "cell_type": "markdown",
      "metadata": {
        "id": "w-FdNnbjqiFE"
      },
      "source": [
        "##### Grid Search Hyperparameter Tuning"
      ]
    },
    {
      "cell_type": "code",
      "metadata": {
        "id": "I5kPvltqpcYz",
        "outputId": "85e5bdb4-8f33-4e33-edc0-d55537627f5d",
        "colab": {
          "base_uri": "https://localhost:8080/"
        }
      },
      "source": [
        "from sklearn.ensemble import RandomForestClassifier\n",
        "from sklearn.metrics import make_scorer, accuracy_score\n",
        "from sklearn.model_selection import GridSearchCV\n",
        "\n",
        "\n",
        "# Choose some parameter combinations to try\n",
        "parameters = {'n_estimators': [4, 6, 9], \n",
        "              'max_features': ['log2', 'sqrt','auto'], \n",
        "              'criterion': ['entropy', 'gini'],\n",
        "              'max_depth': [2, 3, 5, 10], \n",
        "              'min_samples_split': [2, 3, 5],\n",
        "              'min_samples_leaf': [1,5,8]\n",
        "             }\n",
        "\n",
        "# Choose the type of classifier. \n",
        "rfBase = RandomForestClassifier()\n",
        "\n",
        "# Type of scoring used to compare parameter combinations\n",
        "#acc_scorer = make_scorer(accuracy_score)\n",
        "\n",
        "# Run the grid search\n",
        "grid_obj = GridSearchCV(rfBase, parameters, scoring='accuracy')\n",
        "grid_obj = grid_obj.fit(df_train_feature, df_train_label)\n",
        "\n",
        "# Set the clf to the best combination of parameters\n",
        "RFModel = grid_obj.best_estimator_\n",
        "\n",
        "# Display the best parameters\n",
        "print (grid_obj.best_params_)\n",
        "\n",
        "# Fit the best algorithm to the data. \n",
        "#clf.fit(df_train_feature, df_train_label)"
      ],
      "execution_count": 194,
      "outputs": [
        {
          "output_type": "stream",
          "text": [
            "{'criterion': 'gini', 'max_depth': 10, 'max_features': 'sqrt', 'min_samples_leaf': 5, 'min_samples_split': 5, 'n_estimators': 9}\n"
          ],
          "name": "stdout"
        }
      ]
    },
    {
      "cell_type": "markdown",
      "metadata": {
        "id": "FhcKZayBquKz"
      },
      "source": [
        "##### K-Fold Cross Validation"
      ]
    },
    {
      "cell_type": "code",
      "metadata": {
        "id": "KBp6orUZNEj9",
        "outputId": "dadc9edd-939c-4e73-f608-2a591ff775a1",
        "colab": {
          "base_uri": "https://localhost:8080/"
        }
      },
      "source": [
        "#model = RandomForestClassifier(n_estimators=13)\n",
        "scoring = 'accuracy'\n",
        "score = cross_val_score(RFModel, df_train_feature, df_train_label, cv=k_fold, n_jobs=1, scoring=scoring)\n",
        "print(\"Scores:\")\n",
        "print(score)\n",
        "print(f\"\\nAverage Score: {round(np.mean(score)*100, 2)}\")"
      ],
      "execution_count": 195,
      "outputs": [
        {
          "output_type": "stream",
          "text": [
            "Scores:\n",
            "[0.77777778 0.86516854 0.7752809  0.84269663 0.80898876 0.84269663\n",
            " 0.80898876 0.78651685 0.86516854 0.86516854]\n",
            "\n",
            "Average Score: 82.38\n"
          ],
          "name": "stdout"
        }
      ]
    },
    {
      "cell_type": "markdown",
      "metadata": {
        "id": "FuA_RL3yNE-B"
      },
      "source": [
        "#### Gradient Boost"
      ]
    },
    {
      "cell_type": "markdown",
      "metadata": {
        "id": "WJ8bvH_E52GQ"
      },
      "source": [
        "##### Grid Search Hyperparameter Tuning"
      ]
    },
    {
      "cell_type": "code",
      "metadata": {
        "id": "bBl-ysEG52GT"
      },
      "source": [
        "# define parameter ranges\n",
        "parameters = {\"loss\":[\"deviance\"],\n",
        "              \"learning_rate\": [0.01, 0.025, 0.05, 0.075, 0.1, 0.15, 0.2],\n",
        "              \"min_samples_split\": np.linspace(0.1, 0.5, 12),\n",
        "              \"min_samples_leaf\": np.linspace(0.1, 0.5, 12),\n",
        "              \"max_depth\":[3,5,8],\n",
        "              \"max_features\":[\"log2\",\"sqrt\"],\n",
        "              \"criterion\": [\"friedman_mse\",  \"mae\"],\n",
        "              \"subsample\":[0.5, 0.618, 0.8, 0.85, 0.9, 0.95, 1.0],\n",
        "              \"n_estimators\":[10]\n",
        "              }\n",
        "\n",
        "# Create base model object\n",
        "gbmBase = GradientBoostingClassifier()\n",
        "\n",
        "# Type of scoring used to compare parameter combinations\n",
        "#acc_scorer = make_scorer(accuracy_score)\n",
        "\n",
        "# Run the grid search\n",
        "grid_obj = GridSearchCV(gbmBase, parameters, cv = 5, scoring = 'accuracy')\n",
        "grid_obj = grid_obj.fit(df_train_feature, df_train_label)\n",
        "\n",
        "# Set the clf to the best combination of parameters\n",
        "GBModel = grid_obj.best_estimator_\n",
        "\n",
        "# Display the best parameters\n",
        "print (grid_obj.best_params_)\n",
        "\n",
        "# Fit the best algorithm to the data. \n",
        "#KNNModel.fit(df_train_feature, df_train_label)"
      ],
      "execution_count": null,
      "outputs": []
    },
    {
      "cell_type": "markdown",
      "metadata": {
        "id": "ONKkBz1f52Ga"
      },
      "source": [
        "##### K-Fold Cross Validation"
      ]
    },
    {
      "cell_type": "code",
      "metadata": {
        "id": "P59YIpKF52Gb",
        "outputId": "f6eadfe7-e684-43b5-cbd3-7c9dd6421577",
        "colab": {
          "base_uri": "https://localhost:8080/"
        }
      },
      "source": [
        "scoring = 'accuracy'\n",
        "score = cross_val_score(GBModel, df_train_feature, df_train_label, cv=k_fold, n_jobs=1, scoring=scoring)\n",
        "print(\"Scores:\")\n",
        "print(score)\n",
        "print(f\"\\nAverage Score: {round(np.mean(score)*100, 2)}\")"
      ],
      "execution_count": null,
      "outputs": [
        {
          "output_type": "stream",
          "text": [
            "Scores:\n",
            "[0.82222222 0.83146067 0.78651685 0.84269663 0.83146067 0.79775281\n",
            " 0.80898876 0.79775281 0.87640449 0.82022472]\n",
            "\n",
            "Average Score: 82.15\n"
          ],
          "name": "stdout"
        }
      ]
    },
    {
      "cell_type": "markdown",
      "metadata": {
        "id": "FA7gKFcJrLlr"
      },
      "source": [
        "### Final Model"
      ]
    },
    {
      "cell_type": "markdown",
      "metadata": {
        "id": "2qchDBNUDMIq"
      },
      "source": [
        "From our analysis, we can see that SVM seems to be giving us the best results with 82.72% accuracy. So lets use SVM to predict out validation set and plot the results to evaluate it."
      ]
    },
    {
      "cell_type": "code",
      "metadata": {
        "id": "NM0pm8-Ipr7-",
        "outputId": "85916f4d-7c1e-422f-ec1d-0dfdb6a048a5",
        "colab": {
          "base_uri": "https://localhost:8080/"
        }
      },
      "source": [
        "predictions = SVMModel.predict(df_train_feature)\n",
        "print(accuracy_score(df_train_label, predictions))"
      ],
      "execution_count": 200,
      "outputs": [
        {
          "output_type": "stream",
          "text": [
            "0.8316498316498316\n"
          ],
          "name": "stdout"
        }
      ]
    },
    {
      "cell_type": "markdown",
      "metadata": {
        "id": "LPNB5X0D2xzT"
      },
      "source": [
        "### Save Model"
      ]
    },
    {
      "cell_type": "code",
      "metadata": {
        "id": "UCr3zM-Y2xzU",
        "outputId": "a409f2d8-a960-4b5c-e400-610169b88a87",
        "colab": {
          "base_uri": "https://localhost:8080/"
        }
      },
      "source": [
        "# Save The Models Performing Well As A Pickle String. \n",
        "save_SVMModel = pickle.dumps(SVMModel)\n",
        "\n",
        "# Save The Pickle Model In A File \n",
        "joblib.dump(save_SVMModel, modelSavePath + projectName + '_SVMModel.pkl')"
      ],
      "execution_count": 201,
      "outputs": [
        {
          "output_type": "execute_result",
          "data": {
            "text/plain": [
              "['/content/drive/My Drive/Data Science Projects/Titanic/Titanic Survival Prediction_SVMModel.pkl']"
            ]
          },
          "metadata": {
            "tags": []
          },
          "execution_count": 201
        }
      ]
    },
    {
      "cell_type": "markdown",
      "metadata": {
        "id": "dObEp_6-2xzc"
      },
      "source": [
        "### Test Dataframe Predictions"
      ]
    },
    {
      "cell_type": "code",
      "metadata": {
        "id": "aaV0R9aw2xzd"
      },
      "source": [
        "# Load the pickled model \n",
        "#SVMModel = joblib.load(modelSavePath + projectName + '_SVMModel.pkl')\n",
        "  \n",
        "# Use the loaded pickled model to make predictions \n",
        "df_test['Survival Prediction'] = SVMModel.predict(df_test)"
      ],
      "execution_count": 203,
      "outputs": []
    },
    {
      "cell_type": "code",
      "metadata": {
        "id": "BhH5YWUXHdgr",
        "outputId": "728effb2-20ef-4cff-fe97-dbc3ceb90b13",
        "colab": {
          "base_uri": "https://localhost:8080/",
          "height": 204
        }
      },
      "source": [
        "df_test.head()"
      ],
      "execution_count": 204,
      "outputs": [
        {
          "output_type": "execute_result",
          "data": {
            "text/html": [
              "<div>\n",
              "<style scoped>\n",
              "    .dataframe tbody tr th:only-of-type {\n",
              "        vertical-align: middle;\n",
              "    }\n",
              "\n",
              "    .dataframe tbody tr th {\n",
              "        vertical-align: top;\n",
              "    }\n",
              "\n",
              "    .dataframe thead th {\n",
              "        text-align: right;\n",
              "    }\n",
              "</style>\n",
              "<table border=\"1\" class=\"dataframe\">\n",
              "  <thead>\n",
              "    <tr style=\"text-align: right;\">\n",
              "      <th></th>\n",
              "      <th>Pclass</th>\n",
              "      <th>Sex</th>\n",
              "      <th>Age</th>\n",
              "      <th>Fare</th>\n",
              "      <th>Embarked</th>\n",
              "      <th>Title</th>\n",
              "      <th>FamilyCount</th>\n",
              "      <th>Survival Prediction</th>\n",
              "    </tr>\n",
              "  </thead>\n",
              "  <tbody>\n",
              "    <tr>\n",
              "      <th>0</th>\n",
              "      <td>3</td>\n",
              "      <td>0</td>\n",
              "      <td>1</td>\n",
              "      <td>0.0</td>\n",
              "      <td>1</td>\n",
              "      <td>0</td>\n",
              "      <td>0.0</td>\n",
              "      <td>0</td>\n",
              "    </tr>\n",
              "    <tr>\n",
              "      <th>1</th>\n",
              "      <td>3</td>\n",
              "      <td>1</td>\n",
              "      <td>2</td>\n",
              "      <td>0.0</td>\n",
              "      <td>2</td>\n",
              "      <td>2</td>\n",
              "      <td>0.3</td>\n",
              "      <td>1</td>\n",
              "    </tr>\n",
              "    <tr>\n",
              "      <th>2</th>\n",
              "      <td>2</td>\n",
              "      <td>0</td>\n",
              "      <td>3</td>\n",
              "      <td>0.0</td>\n",
              "      <td>1</td>\n",
              "      <td>0</td>\n",
              "      <td>0.0</td>\n",
              "      <td>0</td>\n",
              "    </tr>\n",
              "    <tr>\n",
              "      <th>3</th>\n",
              "      <td>3</td>\n",
              "      <td>0</td>\n",
              "      <td>1</td>\n",
              "      <td>0.0</td>\n",
              "      <td>2</td>\n",
              "      <td>0</td>\n",
              "      <td>0.0</td>\n",
              "      <td>0</td>\n",
              "    </tr>\n",
              "    <tr>\n",
              "      <th>4</th>\n",
              "      <td>3</td>\n",
              "      <td>1</td>\n",
              "      <td>1</td>\n",
              "      <td>0.0</td>\n",
              "      <td>2</td>\n",
              "      <td>2</td>\n",
              "      <td>0.6</td>\n",
              "      <td>1</td>\n",
              "    </tr>\n",
              "  </tbody>\n",
              "</table>\n",
              "</div>"
            ],
            "text/plain": [
              "   Pclass  Sex  Age  Fare  Embarked  Title  FamilyCount  Survival Prediction\n",
              "0       3    0    1   0.0         1      0          0.0                    0\n",
              "1       3    1    2   0.0         2      2          0.3                    1\n",
              "2       2    0    3   0.0         1      0          0.0                    0\n",
              "3       3    0    1   0.0         2      0          0.0                    0\n",
              "4       3    1    1   0.0         2      2          0.6                    1"
            ]
          },
          "metadata": {
            "tags": []
          },
          "execution_count": 204
        }
      ]
    },
    {
      "cell_type": "markdown",
      "metadata": {
        "id": "aBe2jM5AHoQw"
      },
      "source": [
        "### Final Dataframe For Kaggle Submission"
      ]
    },
    {
      "cell_type": "code",
      "metadata": {
        "id": "GcdJlMYxIZNe"
      },
      "source": [
        "testDf = pd.read_csv(datasetPath + 'test.csv')"
      ],
      "execution_count": 205,
      "outputs": []
    },
    {
      "cell_type": "code",
      "metadata": {
        "id": "eAsvb_VcHgmq"
      },
      "source": [
        "submission = pd.DataFrame(columns=['PassengerId', 'Survived'])"
      ],
      "execution_count": 208,
      "outputs": []
    },
    {
      "cell_type": "code",
      "metadata": {
        "id": "piKiork0I0yY",
        "outputId": "7c54cb0c-ab5f-43d9-fc4c-811f69d68c31",
        "colab": {
          "base_uri": "https://localhost:8080/",
          "height": 204
        }
      },
      "source": [
        "submission['PassengerId'] = testDf['PassengerId'].copy()\n",
        "submission['Survived'] = df_test['Survival Prediction'].copy()\n",
        "\n",
        "submission.head(10)"
      ],
      "execution_count": 211,
      "outputs": [
        {
          "output_type": "execute_result",
          "data": {
            "text/html": [
              "<div>\n",
              "<style scoped>\n",
              "    .dataframe tbody tr th:only-of-type {\n",
              "        vertical-align: middle;\n",
              "    }\n",
              "\n",
              "    .dataframe tbody tr th {\n",
              "        vertical-align: top;\n",
              "    }\n",
              "\n",
              "    .dataframe thead th {\n",
              "        text-align: right;\n",
              "    }\n",
              "</style>\n",
              "<table border=\"1\" class=\"dataframe\">\n",
              "  <thead>\n",
              "    <tr style=\"text-align: right;\">\n",
              "      <th></th>\n",
              "      <th>PassengerId</th>\n",
              "      <th>Survived</th>\n",
              "    </tr>\n",
              "  </thead>\n",
              "  <tbody>\n",
              "    <tr>\n",
              "      <th>0</th>\n",
              "      <td>892</td>\n",
              "      <td>0</td>\n",
              "    </tr>\n",
              "    <tr>\n",
              "      <th>1</th>\n",
              "      <td>893</td>\n",
              "      <td>1</td>\n",
              "    </tr>\n",
              "    <tr>\n",
              "      <th>2</th>\n",
              "      <td>894</td>\n",
              "      <td>0</td>\n",
              "    </tr>\n",
              "    <tr>\n",
              "      <th>3</th>\n",
              "      <td>895</td>\n",
              "      <td>0</td>\n",
              "    </tr>\n",
              "    <tr>\n",
              "      <th>4</th>\n",
              "      <td>896</td>\n",
              "      <td>1</td>\n",
              "    </tr>\n",
              "  </tbody>\n",
              "</table>\n",
              "</div>"
            ],
            "text/plain": [
              "   PassengerId  Survived\n",
              "0          892         0\n",
              "1          893         1\n",
              "2          894         0\n",
              "3          895         0\n",
              "4          896         1"
            ]
          },
          "metadata": {
            "tags": []
          },
          "execution_count": 211
        }
      ]
    },
    {
      "cell_type": "code",
      "metadata": {
        "id": "ugEOUi7xJin0"
      },
      "source": [
        "submission.to_csv(datasetPath+'submission.csv', index=False)"
      ],
      "execution_count": 213,
      "outputs": []
    }
  ]
}